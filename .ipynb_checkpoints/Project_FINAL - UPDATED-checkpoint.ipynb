{
 "cells": [
  {
   "cell_type": "markdown",
   "id": "monthly-fisher",
   "metadata": {},
   "source": [
    "# Machine Learning Project\n",
    "\n",
    "by\n",
    "### De CHAMPS René & MAULET Grégory"
   ]
  },
  {
   "cell_type": "code",
   "execution_count": 1,
   "id": "annual-quick",
   "metadata": {},
   "outputs": [],
   "source": [
    "import matplotlib.pyplot as plt\n",
    "%matplotlib inline\n",
    "import numpy as np\n",
    "import pandas as pd\n",
    "import keras.backend as K\n",
    "\n",
    "from numpy import array, asarray, zeros\n",
    "from sklearn.model_selection import KFold, train_test_split, GridSearchCV\n",
    "from sklearn.pipeline import Pipeline\n",
    "from sklearn.linear_model import SGDClassifier, LogisticRegression\n",
    "from sklearn.preprocessing import StandardScaler\n",
    "from sklearn.svm import LinearSVC\n",
    "from sklearn.naive_bayes import MultinomialNB\n",
    "from sklearn.feature_extraction.text import CountVectorizer, TfidfTransformer, TfidfVectorizer\n",
    "from sklearn.metrics import accuracy_score, confusion_matrix, classification_report\n",
    "\n",
    "from keras.preprocessing import sequence\n",
    "from keras.preprocessing.text import one_hot, Tokenizer\n",
    "from keras.preprocessing.sequence import pad_sequences\n",
    "from keras.layers import GlobalMaxPooling1D, Conv1D, LSTM, Flatten, Dense, Embedding, MaxPooling1D\n",
    "from keras.layers.core import Activation, Dropout, Dense\n",
    "from keras.layers.embeddings import Embedding\n",
    "from keras.layers.convolutional import MaxPooling1D\n",
    "from keras.models import Sequential\n",
    "from keras.utils import np_utils\n",
    "\n",
    "import nltk\n",
    "from nltk.corpus import stopwords\n",
    "from nltk.tokenize import word_tokenize\n",
    "import re, string\n",
    "\n",
    "import seaborn as sns\n",
    "sns.set(style=\"darkgrid\")\n",
    "sns.set(font_scale=1.3)\n",
    "\n",
    "from pprint import pprint\n",
    "from time import time\n",
    "import logging"
   ]
  },
  {
   "cell_type": "markdown",
   "id": "professional-dealer",
   "metadata": {},
   "source": [
    "# I. Introduction: Description of the data set, imports, notebook structure"
   ]
  },
  {
   "cell_type": "markdown",
   "id": "employed-bargain",
   "metadata": {},
   "source": [
    "### Description of the dataset\n",
    "\n",
    "In this analysis, we're looking at a dataset containing tweets : short message posted by users on www.twitter.com. We're aiming at modelling and predicting the sentiment, whether positive or negative, of each tweet. The sentiment of the tweet was based on whether each tweet contained a happy \":)\" or sad \":(\" smiley. These smileys have been removed from the tweets beforehand.\n",
    "\n",
    "### Notebook structure\n",
    "\n",
    "We'll proceed in this analysis by making a first exploratory data analysis in which we'll take an overall look at our data to get a first intuition on how to approach the modelling. Then, we'll apply different modelling approach and try to compare them using predictive scoring. Finally, after tuning up our best model to get the best possible training fit, we'll apply our model on the test dataset which will serve as our final prediction result. Furthermore, we added an appendix at the end containing a long and perious attempt on using BERT model.\n",
    "\n",
    "### Import\n",
    "\n",
    "First of all, let's import our training dataset under the name \"emote\"."
   ]
  },
  {
   "cell_type": "code",
   "execution_count": 2,
   "id": "based-sarah",
   "metadata": {
    "scrolled": false
   },
   "outputs": [
    {
     "name": "stderr",
     "output_type": "stream",
     "text": [
      "C:\\Users\\rened\\Anaconda3\\lib\\site-packages\\numpy\\lib\\arraysetops.py:580: FutureWarning: elementwise comparison failed; returning scalar instead, but in the future will perform elementwise comparison\n",
      "  mask |= (ar1 == a)\n"
     ]
    },
    {
     "name": "stdout",
     "output_type": "stream",
     "text": [
      "Dataset shape: (1280000, 6)\n"
     ]
    }
   ],
   "source": [
    "emote = pd.read_csv(\"MLUnige2021_train.csv\",index_col=0)\n",
    "print(\"Dataset shape:\", emote.shape)"
   ]
  },
  {
   "cell_type": "markdown",
   "id": "classified-cabinet",
   "metadata": {},
   "source": [
    " "
   ]
  },
  {
   "cell_type": "markdown",
   "id": "raising-paper",
   "metadata": {},
   "source": [
    "# II. Exploratory Data Analysis & Feature Engineering"
   ]
  },
  {
   "cell_type": "markdown",
   "id": "opening-yellow",
   "metadata": {},
   "source": [
    "### First look at the data\n",
    "\n",
    "Now that we've imported our training dataset, let's take a first look into it."
   ]
  },
  {
   "cell_type": "code",
   "execution_count": 3,
   "id": "regional-pixel",
   "metadata": {},
   "outputs": [
    {
     "data": {
      "text/html": [
       "<div>\n",
       "<style scoped>\n",
       "    .dataframe tbody tr th:only-of-type {\n",
       "        vertical-align: middle;\n",
       "    }\n",
       "\n",
       "    .dataframe tbody tr th {\n",
       "        vertical-align: top;\n",
       "    }\n",
       "\n",
       "    .dataframe thead th {\n",
       "        text-align: right;\n",
       "    }\n",
       "</style>\n",
       "<table border=\"1\" class=\"dataframe\">\n",
       "  <thead>\n",
       "    <tr style=\"text-align: right;\">\n",
       "      <th></th>\n",
       "      <th>emotion</th>\n",
       "      <th>tweet_id</th>\n",
       "      <th>date</th>\n",
       "      <th>lyx_query</th>\n",
       "      <th>user</th>\n",
       "      <th>text</th>\n",
       "    </tr>\n",
       "    <tr>\n",
       "      <th>Id</th>\n",
       "      <th></th>\n",
       "      <th></th>\n",
       "      <th></th>\n",
       "      <th></th>\n",
       "      <th></th>\n",
       "      <th></th>\n",
       "    </tr>\n",
       "  </thead>\n",
       "  <tbody>\n",
       "    <tr>\n",
       "      <th>0</th>\n",
       "      <td>1</td>\n",
       "      <td>2063391019</td>\n",
       "      <td>Sun Jun 07 02:28:13 PDT 2009</td>\n",
       "      <td>NO_QUERY</td>\n",
       "      <td>BerryGurus</td>\n",
       "      <td>@BreeMe more time to play with you BlackBerry ...</td>\n",
       "    </tr>\n",
       "    <tr>\n",
       "      <th>1</th>\n",
       "      <td>0</td>\n",
       "      <td>2000525676</td>\n",
       "      <td>Mon Jun 01 22:18:53 PDT 2009</td>\n",
       "      <td>NO_QUERY</td>\n",
       "      <td>peterlanoie</td>\n",
       "      <td>Failed attempt at booting to a flash drive. Th...</td>\n",
       "    </tr>\n",
       "    <tr>\n",
       "      <th>2</th>\n",
       "      <td>0</td>\n",
       "      <td>2218180611</td>\n",
       "      <td>Wed Jun 17 22:01:38 PDT 2009</td>\n",
       "      <td>NO_QUERY</td>\n",
       "      <td>will_tooker</td>\n",
       "      <td>@msproductions Well ain't that the truth. Wher...</td>\n",
       "    </tr>\n",
       "    <tr>\n",
       "      <th>3</th>\n",
       "      <td>1</td>\n",
       "      <td>2190269101</td>\n",
       "      <td>Tue Jun 16 02:14:47 PDT 2009</td>\n",
       "      <td>NO_QUERY</td>\n",
       "      <td>sammutimer</td>\n",
       "      <td>@Meaghery cheers Craig - that was really sweet...</td>\n",
       "    </tr>\n",
       "    <tr>\n",
       "      <th>4</th>\n",
       "      <td>0</td>\n",
       "      <td>2069249490</td>\n",
       "      <td>Sun Jun 07 15:31:58 PDT 2009</td>\n",
       "      <td>NO_QUERY</td>\n",
       "      <td>ohaijustin</td>\n",
       "      <td>I was reading the tweets that got send to me w...</td>\n",
       "    </tr>\n",
       "  </tbody>\n",
       "</table>\n",
       "</div>"
      ],
      "text/plain": [
       "    emotion    tweet_id                          date lyx_query         user  \\\n",
       "Id                                                                             \n",
       "0         1  2063391019  Sun Jun 07 02:28:13 PDT 2009  NO_QUERY   BerryGurus   \n",
       "1         0  2000525676  Mon Jun 01 22:18:53 PDT 2009  NO_QUERY  peterlanoie   \n",
       "2         0  2218180611  Wed Jun 17 22:01:38 PDT 2009  NO_QUERY  will_tooker   \n",
       "3         1  2190269101  Tue Jun 16 02:14:47 PDT 2009  NO_QUERY   sammutimer   \n",
       "4         0  2069249490  Sun Jun 07 15:31:58 PDT 2009  NO_QUERY   ohaijustin   \n",
       "\n",
       "                                                 text  \n",
       "Id                                                     \n",
       "0   @BreeMe more time to play with you BlackBerry ...  \n",
       "1   Failed attempt at booting to a flash drive. Th...  \n",
       "2   @msproductions Well ain't that the truth. Wher...  \n",
       "3   @Meaghery cheers Craig - that was really sweet...  \n",
       "4   I was reading the tweets that got send to me w...  "
      ]
     },
     "execution_count": 3,
     "metadata": {},
     "output_type": "execute_result"
    }
   ],
   "source": [
    "emote.head()"
   ]
  },
  {
   "cell_type": "markdown",
   "id": "recent-saturday",
   "metadata": {},
   "source": [
    "This dataset contains not only the tweets and its corresponding emotions, but also the username of the sender, the date at which it was sent and a last column which indicates if a specific query was used in processing the data. "
   ]
  },
  {
   "cell_type": "code",
   "execution_count": 4,
   "id": "commercial-yugoslavia",
   "metadata": {},
   "outputs": [
    {
     "name": "stdout",
     "output_type": "stream",
     "text": [
      "Missing values in our data : 0\n",
      "Instances of NO_QUERY in column 'lyx_query': 1280000\n"
     ]
    }
   ],
   "source": [
    "print(\"Missing values in our data :\", emote.isna().sum().sum())\n",
    "# No missing values\n",
    "\n",
    "found = emote['lyx_query'].str.contains('NO_QUERY')\n",
    "print(\"Instances of NO_QUERY in column 'lyx_query':\", found.count())\n",
    "# Full of \"NO_QUERY\""
   ]
  },
  {
   "cell_type": "markdown",
   "id": "nutritional-maple",
   "metadata": {},
   "source": [
    "Our dataset doesn't contain any missing values. Morevover, we observe that the column 'lyx_query' is full of the same statement 'NO_QUERY'. Thus, this variable is of no use in the predictive aim of our model since it doesn't make any discrimination between any tweet."
   ]
  },
  {
   "cell_type": "code",
   "execution_count": 5,
   "id": "known-centre",
   "metadata": {},
   "outputs": [
    {
     "data": {
      "image/png": "[encoded data removed]",
      "text/plain": [
       "<Figure size 648x432 with 1 Axes>"
      ]
     },
     "metadata": {},
     "output_type": "display_data"
    },
    {
     "name": "stdout",
     "output_type": "stream",
     "text": [
      "Number of positive tweets : 640118\n",
      "Number of negative tweets : 639882\n"
     ]
    }
   ],
   "source": [
    "sns.catplot(x=\"emotion\", data=emote, kind=\"count\", height=6, aspect=1.5, palette=\"PuBuGn_d\")\n",
    "plt.show();\n",
    "print(\"Number of positive tweets :\", sum(emote[\"emotion\"] == 1))\n",
    "print(\"Number of negative tweets :\", sum(emote[\"emotion\"] == 0))\n",
    "# About 50/50 positive and negative tweets"
   ]
  },
  {
   "cell_type": "markdown",
   "id": "excess-jackson",
   "metadata": {},
   "source": [
    "We are training on a pretty balanced dataset with as much positive and negative tweets. This will let us perform train/test split without the need of stratifying."
   ]
  },
  {
   "cell_type": "code",
   "execution_count": 4,
   "id": "quick-nightmare",
   "metadata": {},
   "outputs": [
    {
     "name": "stdout",
     "output_type": "stream",
     "text": [
      "Number of different tweet id : 1278931\n",
      "Number of different users : 574114\n",
      "Number of users that tweeted only once : 365446\n",
      "Various users and their number of posted tweets :\n",
      "lost_dog          446\n",
      "webwoke           292\n",
      "tweetpet          239\n",
      "VioletsCRUK       234\n",
      "mcraddictal       226\n",
      "                 ... \n",
      "anne_ccj            1\n",
      "JocelynG42          1\n",
      "wkdpstr             1\n",
      "Strawberry_Sal      1\n",
      "MichalMM            1\n",
      "Name: user, Length: 574114, dtype: int64\n"
     ]
    }
   ],
   "source": [
    "print(\"Number of different tweet id :\", emote[\"tweet_id\"].nunique()) # 1069 tweets have had same id ??\n",
    "print(\"Number of different users :\", emote[\"user\"].nunique()) # 574.114 different users\n",
    "print(\"Number of users that tweeted only once :\", sum(emote[\"user\"].value_counts() == 1)) # 365.446 users tweeted once\n",
    "print(\"Various users and their number of posted tweets :\")\n",
    "print(emote[\"user\"].value_counts()) # some of them commented a lot"
   ]
  },
  {
   "cell_type": "markdown",
   "id": "ready-shift",
   "metadata": {},
   "source": [
    "About a quarter of the twitter users in our training dataset only tweeted once during that period, while some of them went as far as tweeting several hundred times."
   ]
  },
  {
   "cell_type": "markdown",
   "id": "improving-favor",
   "metadata": {},
   "source": [
    " "
   ]
  },
  {
   "cell_type": "markdown",
   "id": "surrounded-deficit",
   "metadata": {},
   "source": [
    "### 5 Most talkative users data"
   ]
  },
  {
   "cell_type": "code",
   "execution_count": 4,
   "id": "illegal-penetration",
   "metadata": {},
   "outputs": [
    {
     "data": {
      "text/html": [
       "<div>\n",
       "<style scoped>\n",
       "    .dataframe tbody tr th:only-of-type {\n",
       "        vertical-align: middle;\n",
       "    }\n",
       "\n",
       "    .dataframe tbody tr th {\n",
       "        vertical-align: top;\n",
       "    }\n",
       "\n",
       "    .dataframe thead th {\n",
       "        text-align: right;\n",
       "    }\n",
       "</style>\n",
       "<table border=\"1\" class=\"dataframe\">\n",
       "  <thead>\n",
       "    <tr style=\"text-align: right;\">\n",
       "      <th></th>\n",
       "      <th>emotion</th>\n",
       "      <th>tweet_id</th>\n",
       "      <th>date</th>\n",
       "      <th>lyx_query</th>\n",
       "      <th>user</th>\n",
       "      <th>text</th>\n",
       "    </tr>\n",
       "    <tr>\n",
       "      <th>Id</th>\n",
       "      <th></th>\n",
       "      <th></th>\n",
       "      <th></th>\n",
       "      <th></th>\n",
       "      <th></th>\n",
       "      <th></th>\n",
       "    </tr>\n",
       "  </thead>\n",
       "  <tbody>\n",
       "    <tr>\n",
       "      <th>8229</th>\n",
       "      <td>0</td>\n",
       "      <td>2209419659</td>\n",
       "      <td>Wed Jun 17 10:22:06 PDT 2009</td>\n",
       "      <td>NO_QUERY</td>\n",
       "      <td>lost_dog</td>\n",
       "      <td>@JamieDrokan I am lost. Please help me find a ...</td>\n",
       "    </tr>\n",
       "    <tr>\n",
       "      <th>9527</th>\n",
       "      <td>0</td>\n",
       "      <td>2328965183</td>\n",
       "      <td>Thu Jun 25 10:11:34 PDT 2009</td>\n",
       "      <td>NO_QUERY</td>\n",
       "      <td>lost_dog</td>\n",
       "      <td>@W_Hancock I am lost. Please help me find a go...</td>\n",
       "    </tr>\n",
       "    <tr>\n",
       "      <th>10645</th>\n",
       "      <td>0</td>\n",
       "      <td>2072079020</td>\n",
       "      <td>Sun Jun 07 20:21:54 PDT 2009</td>\n",
       "      <td>NO_QUERY</td>\n",
       "      <td>lost_dog</td>\n",
       "      <td>@miznatch I am lost. Please help me find a goo...</td>\n",
       "    </tr>\n",
       "    <tr>\n",
       "      <th>14863</th>\n",
       "      <td>0</td>\n",
       "      <td>2214285766</td>\n",
       "      <td>Wed Jun 17 16:31:38 PDT 2009</td>\n",
       "      <td>NO_QUERY</td>\n",
       "      <td>lost_dog</td>\n",
       "      <td>@kgustafson I am lost. Please help me find a g...</td>\n",
       "    </tr>\n",
       "    <tr>\n",
       "      <th>16723</th>\n",
       "      <td>0</td>\n",
       "      <td>1696136174</td>\n",
       "      <td>Mon May 04 07:41:03 PDT 2009</td>\n",
       "      <td>NO_QUERY</td>\n",
       "      <td>lost_dog</td>\n",
       "      <td>@kneeon I am lost. Please help me find a good ...</td>\n",
       "    </tr>\n",
       "  </tbody>\n",
       "</table>\n",
       "</div>"
      ],
      "text/plain": [
       "       emotion    tweet_id                          date lyx_query      user  \\\n",
       "Id                                                                             \n",
       "8229         0  2209419659  Wed Jun 17 10:22:06 PDT 2009  NO_QUERY  lost_dog   \n",
       "9527         0  2328965183  Thu Jun 25 10:11:34 PDT 2009  NO_QUERY  lost_dog   \n",
       "10645        0  2072079020  Sun Jun 07 20:21:54 PDT 2009  NO_QUERY  lost_dog   \n",
       "14863        0  2214285766  Wed Jun 17 16:31:38 PDT 2009  NO_QUERY  lost_dog   \n",
       "16723        0  1696136174  Mon May 04 07:41:03 PDT 2009  NO_QUERY  lost_dog   \n",
       "\n",
       "                                                    text  \n",
       "Id                                                        \n",
       "8229   @JamieDrokan I am lost. Please help me find a ...  \n",
       "9527   @W_Hancock I am lost. Please help me find a go...  \n",
       "10645  @miznatch I am lost. Please help me find a goo...  \n",
       "14863  @kgustafson I am lost. Please help me find a g...  \n",
       "16723  @kneeon I am lost. Please help me find a good ...  "
      ]
     },
     "execution_count": 4,
     "metadata": {},
     "output_type": "execute_result"
    }
   ],
   "source": [
    "emote[emote[\"user\"] == \"lost_dog\"].head() # SPAM : all the 446 same message \"@random_user I am lost. Please help me find a good home.\""
   ]
  },
  {
   "cell_type": "code",
   "execution_count": 5,
   "id": "swedish-adjustment",
   "metadata": {},
   "outputs": [
    {
     "data": {
      "text/html": [
       "<div>\n",
       "<style scoped>\n",
       "    .dataframe tbody tr th:only-of-type {\n",
       "        vertical-align: middle;\n",
       "    }\n",
       "\n",
       "    .dataframe tbody tr th {\n",
       "        vertical-align: top;\n",
       "    }\n",
       "\n",
       "    .dataframe thead th {\n",
       "        text-align: right;\n",
       "    }\n",
       "</style>\n",
       "<table border=\"1\" class=\"dataframe\">\n",
       "  <thead>\n",
       "    <tr style=\"text-align: right;\">\n",
       "      <th></th>\n",
       "      <th>emotion</th>\n",
       "      <th>tweet_id</th>\n",
       "      <th>date</th>\n",
       "      <th>lyx_query</th>\n",
       "      <th>user</th>\n",
       "      <th>text</th>\n",
       "    </tr>\n",
       "    <tr>\n",
       "      <th>Id</th>\n",
       "      <th></th>\n",
       "      <th></th>\n",
       "      <th></th>\n",
       "      <th></th>\n",
       "      <th></th>\n",
       "      <th></th>\n",
       "    </tr>\n",
       "  </thead>\n",
       "  <tbody>\n",
       "    <tr>\n",
       "      <th>19553</th>\n",
       "      <td>0</td>\n",
       "      <td>2067697514</td>\n",
       "      <td>Sun Jun 07 12:48:05 PDT 2009</td>\n",
       "      <td>NO_QUERY</td>\n",
       "      <td>webwoke</td>\n",
       "      <td>come on... drop by 1  44. blogtoplist.com</td>\n",
       "    </tr>\n",
       "    <tr>\n",
       "      <th>24144</th>\n",
       "      <td>0</td>\n",
       "      <td>2072285184</td>\n",
       "      <td>Sun Jun 07 20:44:08 PDT 2009</td>\n",
       "      <td>NO_QUERY</td>\n",
       "      <td>webwoke</td>\n",
       "      <td>owww god, drop by 18  57. blogspot.com</td>\n",
       "    </tr>\n",
       "    <tr>\n",
       "      <th>25988</th>\n",
       "      <td>0</td>\n",
       "      <td>2055206809</td>\n",
       "      <td>Sat Jun 06 08:54:04 PDT 2009</td>\n",
       "      <td>NO_QUERY</td>\n",
       "      <td>webwoke</td>\n",
       "      <td>F**K! drop by 1  97. zimbio.com</td>\n",
       "    </tr>\n",
       "    <tr>\n",
       "      <th>28219</th>\n",
       "      <td>1</td>\n",
       "      <td>2053451192</td>\n",
       "      <td>Sat Jun 06 04:36:04 PDT 2009</td>\n",
       "      <td>NO_QUERY</td>\n",
       "      <td>webwoke</td>\n",
       "      <td>uhuiii... move up by 1  69. hubpages.com</td>\n",
       "    </tr>\n",
       "    <tr>\n",
       "      <th>28597</th>\n",
       "      <td>1</td>\n",
       "      <td>2066463084</td>\n",
       "      <td>Sun Jun 07 10:34:05 PDT 2009</td>\n",
       "      <td>NO_QUERY</td>\n",
       "      <td>webwoke</td>\n",
       "      <td>GoGoGo... move up by 1  13. slideshare.net</td>\n",
       "    </tr>\n",
       "  </tbody>\n",
       "</table>\n",
       "</div>"
      ],
      "text/plain": [
       "       emotion    tweet_id                          date lyx_query     user  \\\n",
       "Id                                                                            \n",
       "19553        0  2067697514  Sun Jun 07 12:48:05 PDT 2009  NO_QUERY  webwoke   \n",
       "24144        0  2072285184  Sun Jun 07 20:44:08 PDT 2009  NO_QUERY  webwoke   \n",
       "25988        0  2055206809  Sat Jun 06 08:54:04 PDT 2009  NO_QUERY  webwoke   \n",
       "28219        1  2053451192  Sat Jun 06 04:36:04 PDT 2009  NO_QUERY  webwoke   \n",
       "28597        1  2066463084  Sun Jun 07 10:34:05 PDT 2009  NO_QUERY  webwoke   \n",
       "\n",
       "                                             text  \n",
       "Id                                                 \n",
       "19553   come on... drop by 1  44. blogtoplist.com  \n",
       "24144      owww god, drop by 18  57. blogspot.com  \n",
       "25988             F**K! drop by 1  97. zimbio.com  \n",
       "28219    uhuiii... move up by 1  69. hubpages.com  \n",
       "28597  GoGoGo... move up by 1  13. slideshare.net  "
      ]
     },
     "execution_count": 5,
     "metadata": {},
     "output_type": "execute_result"
    }
   ],
   "source": [
    "emote[emote[\"user\"] == \"webwoke\"].head() # SPAM : making request to visit some random website (commercial bot ?)\n",
    "#emote[emote[\"user\"] == \"webwoke\"].sum() # 68/292 positive messages\n"
   ]
  },
  {
   "cell_type": "code",
   "execution_count": 6,
   "id": "fossil-semester",
   "metadata": {},
   "outputs": [
    {
     "data": {
      "text/html": [
       "<div>\n",
       "<style scoped>\n",
       "    .dataframe tbody tr th:only-of-type {\n",
       "        vertical-align: middle;\n",
       "    }\n",
       "\n",
       "    .dataframe tbody tr th {\n",
       "        vertical-align: top;\n",
       "    }\n",
       "\n",
       "    .dataframe thead th {\n",
       "        text-align: right;\n",
       "    }\n",
       "</style>\n",
       "<table border=\"1\" class=\"dataframe\">\n",
       "  <thead>\n",
       "    <tr style=\"text-align: right;\">\n",
       "      <th></th>\n",
       "      <th>emotion</th>\n",
       "      <th>tweet_id</th>\n",
       "      <th>date</th>\n",
       "      <th>lyx_query</th>\n",
       "      <th>user</th>\n",
       "      <th>text</th>\n",
       "    </tr>\n",
       "    <tr>\n",
       "      <th>Id</th>\n",
       "      <th></th>\n",
       "      <th></th>\n",
       "      <th></th>\n",
       "      <th></th>\n",
       "      <th></th>\n",
       "      <th></th>\n",
       "    </tr>\n",
       "  </thead>\n",
       "  <tbody>\n",
       "    <tr>\n",
       "      <th>11130</th>\n",
       "      <td>0</td>\n",
       "      <td>1676425868</td>\n",
       "      <td>Fri May 01 22:00:38 PDT 2009</td>\n",
       "      <td>NO_QUERY</td>\n",
       "      <td>tweetpet</td>\n",
       "      <td>@CeladonNewTown  Clean Me!</td>\n",
       "    </tr>\n",
       "    <tr>\n",
       "      <th>13494</th>\n",
       "      <td>0</td>\n",
       "      <td>1573611322</td>\n",
       "      <td>Tue Apr 21 02:00:03 PDT 2009</td>\n",
       "      <td>NO_QUERY</td>\n",
       "      <td>tweetpet</td>\n",
       "      <td>@chromachris  Clean Me!</td>\n",
       "    </tr>\n",
       "    <tr>\n",
       "      <th>17443</th>\n",
       "      <td>0</td>\n",
       "      <td>1676426980</td>\n",
       "      <td>Fri May 01 22:00:49 PDT 2009</td>\n",
       "      <td>NO_QUERY</td>\n",
       "      <td>tweetpet</td>\n",
       "      <td>@Kamryn6179  Clean Me!</td>\n",
       "    </tr>\n",
       "    <tr>\n",
       "      <th>23973</th>\n",
       "      <td>0</td>\n",
       "      <td>1677423044</td>\n",
       "      <td>Sat May 02 02:00:12 PDT 2009</td>\n",
       "      <td>NO_QUERY</td>\n",
       "      <td>tweetpet</td>\n",
       "      <td>@greenbizdaily  Clean Me!</td>\n",
       "    </tr>\n",
       "    <tr>\n",
       "      <th>33463</th>\n",
       "      <td>0</td>\n",
       "      <td>1676426375</td>\n",
       "      <td>Fri May 01 22:00:43 PDT 2009</td>\n",
       "      <td>NO_QUERY</td>\n",
       "      <td>tweetpet</td>\n",
       "      <td>@ANALOVESTITO  Clean Me!</td>\n",
       "    </tr>\n",
       "  </tbody>\n",
       "</table>\n",
       "</div>"
      ],
      "text/plain": [
       "       emotion    tweet_id                          date lyx_query      user  \\\n",
       "Id                                                                             \n",
       "11130        0  1676425868  Fri May 01 22:00:38 PDT 2009  NO_QUERY  tweetpet   \n",
       "13494        0  1573611322  Tue Apr 21 02:00:03 PDT 2009  NO_QUERY  tweetpet   \n",
       "17443        0  1676426980  Fri May 01 22:00:49 PDT 2009  NO_QUERY  tweetpet   \n",
       "23973        0  1677423044  Sat May 02 02:00:12 PDT 2009  NO_QUERY  tweetpet   \n",
       "33463        0  1676426375  Fri May 01 22:00:43 PDT 2009  NO_QUERY  tweetpet   \n",
       "\n",
       "                             text  \n",
       "Id                                 \n",
       "11130  @CeladonNewTown  Clean Me!  \n",
       "13494     @chromachris  Clean Me!  \n",
       "17443      @Kamryn6179  Clean Me!  \n",
       "23973   @greenbizdaily  Clean Me!  \n",
       "33463    @ANALOVESTITO  Clean Me!  "
      ]
     },
     "execution_count": 6,
     "metadata": {},
     "output_type": "execute_result"
    }
   ],
   "source": [
    "emote[emote[\"user\"] == \"tweetpet\"].head() # SPAM : 239 messages asking to \"@someone_else Clean me\""
   ]
  },
  {
   "cell_type": "code",
   "execution_count": 7,
   "id": "similar-ticket",
   "metadata": {},
   "outputs": [
    {
     "data": {
      "text/html": [
       "<div>\n",
       "<style scoped>\n",
       "    .dataframe tbody tr th:only-of-type {\n",
       "        vertical-align: middle;\n",
       "    }\n",
       "\n",
       "    .dataframe tbody tr th {\n",
       "        vertical-align: top;\n",
       "    }\n",
       "\n",
       "    .dataframe thead th {\n",
       "        text-align: right;\n",
       "    }\n",
       "</style>\n",
       "<table border=\"1\" class=\"dataframe\">\n",
       "  <thead>\n",
       "    <tr style=\"text-align: right;\">\n",
       "      <th></th>\n",
       "      <th>emotion</th>\n",
       "      <th>tweet_id</th>\n",
       "      <th>date</th>\n",
       "      <th>lyx_query</th>\n",
       "      <th>user</th>\n",
       "      <th>text</th>\n",
       "    </tr>\n",
       "    <tr>\n",
       "      <th>Id</th>\n",
       "      <th></th>\n",
       "      <th></th>\n",
       "      <th></th>\n",
       "      <th></th>\n",
       "      <th></th>\n",
       "      <th></th>\n",
       "    </tr>\n",
       "  </thead>\n",
       "  <tbody>\n",
       "    <tr>\n",
       "      <th>8319</th>\n",
       "      <td>0</td>\n",
       "      <td>2057611341</td>\n",
       "      <td>Sat Jun 06 13:19:41 PDT 2009</td>\n",
       "      <td>NO_QUERY</td>\n",
       "      <td>VioletsCRUK</td>\n",
       "      <td>@marginatasnaily lol i was chucked of 4 times ...</td>\n",
       "    </tr>\n",
       "    <tr>\n",
       "      <th>9102</th>\n",
       "      <td>1</td>\n",
       "      <td>1573700635</td>\n",
       "      <td>Tue Apr 21 02:26:06 PDT 2009</td>\n",
       "      <td>NO_QUERY</td>\n",
       "      <td>VioletsCRUK</td>\n",
       "      <td>@highdigi Nothing worse! Rain has just started...</td>\n",
       "    </tr>\n",
       "    <tr>\n",
       "      <th>16570</th>\n",
       "      <td>1</td>\n",
       "      <td>1980137710</td>\n",
       "      <td>Sun May 31 05:49:01 PDT 2009</td>\n",
       "      <td>NO_QUERY</td>\n",
       "      <td>VioletsCRUK</td>\n",
       "      <td>Will catch up with yas later..goin for a solid...</td>\n",
       "    </tr>\n",
       "    <tr>\n",
       "      <th>37711</th>\n",
       "      <td>1</td>\n",
       "      <td>1881181047</td>\n",
       "      <td>Fri May 22 03:52:11 PDT 2009</td>\n",
       "      <td>NO_QUERY</td>\n",
       "      <td>VioletsCRUK</td>\n",
       "      <td>@Glasgowlassy lol oh that's a big buffet of ha...</td>\n",
       "    </tr>\n",
       "    <tr>\n",
       "      <th>37909</th>\n",
       "      <td>0</td>\n",
       "      <td>2067636547</td>\n",
       "      <td>Sun Jun 07 12:41:40 PDT 2009</td>\n",
       "      <td>NO_QUERY</td>\n",
       "      <td>VioletsCRUK</td>\n",
       "      <td>@jimkerr09 That was a really lovely tribute to...</td>\n",
       "    </tr>\n",
       "  </tbody>\n",
       "</table>\n",
       "</div>"
      ],
      "text/plain": [
       "       emotion    tweet_id                          date lyx_query  \\\n",
       "Id                                                                   \n",
       "8319         0  2057611341  Sat Jun 06 13:19:41 PDT 2009  NO_QUERY   \n",
       "9102         1  1573700635  Tue Apr 21 02:26:06 PDT 2009  NO_QUERY   \n",
       "16570        1  1980137710  Sun May 31 05:49:01 PDT 2009  NO_QUERY   \n",
       "37711        1  1881181047  Fri May 22 03:52:11 PDT 2009  NO_QUERY   \n",
       "37909        0  2067636547  Sun Jun 07 12:41:40 PDT 2009  NO_QUERY   \n",
       "\n",
       "              user                                               text  \n",
       "Id                                                                     \n",
       "8319   VioletsCRUK  @marginatasnaily lol i was chucked of 4 times ...  \n",
       "9102   VioletsCRUK  @highdigi Nothing worse! Rain has just started...  \n",
       "16570  VioletsCRUK  Will catch up with yas later..goin for a solid...  \n",
       "37711  VioletsCRUK  @Glasgowlassy lol oh that's a big buffet of ha...  \n",
       "37909  VioletsCRUK  @jimkerr09 That was a really lovely tribute to...  "
      ]
     },
     "execution_count": 7,
     "metadata": {},
     "output_type": "execute_result"
    }
   ],
   "source": [
    "emote[emote[\"user\"] == \"VioletsCRUK\"].sum() # 180/234 positive messages\n",
    "emote[emote[\"user\"] == \"VioletsCRUK\"].head()"
   ]
  },
  {
   "cell_type": "code",
   "execution_count": 8,
   "id": "confirmed-chosen",
   "metadata": {},
   "outputs": [
    {
     "data": {
      "text/html": [
       "<div>\n",
       "<style scoped>\n",
       "    .dataframe tbody tr th:only-of-type {\n",
       "        vertical-align: middle;\n",
       "    }\n",
       "\n",
       "    .dataframe tbody tr th {\n",
       "        vertical-align: top;\n",
       "    }\n",
       "\n",
       "    .dataframe thead th {\n",
       "        text-align: right;\n",
       "    }\n",
       "</style>\n",
       "<table border=\"1\" class=\"dataframe\">\n",
       "  <thead>\n",
       "    <tr style=\"text-align: right;\">\n",
       "      <th></th>\n",
       "      <th>emotion</th>\n",
       "      <th>tweet_id</th>\n",
       "      <th>date</th>\n",
       "      <th>lyx_query</th>\n",
       "      <th>user</th>\n",
       "      <th>text</th>\n",
       "    </tr>\n",
       "    <tr>\n",
       "      <th>Id</th>\n",
       "      <th></th>\n",
       "      <th></th>\n",
       "      <th></th>\n",
       "      <th></th>\n",
       "      <th></th>\n",
       "      <th></th>\n",
       "    </tr>\n",
       "  </thead>\n",
       "  <tbody>\n",
       "    <tr>\n",
       "      <th>2337</th>\n",
       "      <td>0</td>\n",
       "      <td>2059074446</td>\n",
       "      <td>Sat Jun 06 16:11:42 PDT 2009</td>\n",
       "      <td>NO_QUERY</td>\n",
       "      <td>mcraddictal</td>\n",
       "      <td>@MyCheMicALmuse pleaseeee tell me? -bites nail...</td>\n",
       "    </tr>\n",
       "    <tr>\n",
       "      <th>2815</th>\n",
       "      <td>0</td>\n",
       "      <td>1968268387</td>\n",
       "      <td>Fri May 29 21:05:43 PDT 2009</td>\n",
       "      <td>NO_QUERY</td>\n",
       "      <td>mcraddictal</td>\n",
       "      <td>@MCRmuffin</td>\n",
       "    </tr>\n",
       "    <tr>\n",
       "      <th>7448</th>\n",
       "      <td>0</td>\n",
       "      <td>2052420061</td>\n",
       "      <td>Sat Jun 06 00:40:11 PDT 2009</td>\n",
       "      <td>NO_QUERY</td>\n",
       "      <td>mcraddictal</td>\n",
       "      <td>@chemicalzombie dont make me say it  you know.</td>\n",
       "    </tr>\n",
       "    <tr>\n",
       "      <th>10092</th>\n",
       "      <td>0</td>\n",
       "      <td>2061250826</td>\n",
       "      <td>Sat Jun 06 20:29:01 PDT 2009</td>\n",
       "      <td>NO_QUERY</td>\n",
       "      <td>mcraddictal</td>\n",
       "      <td>@NoRaptors noooooo begging  i hate that. I'm s...</td>\n",
       "    </tr>\n",
       "    <tr>\n",
       "      <th>13533</th>\n",
       "      <td>0</td>\n",
       "      <td>1981070459</td>\n",
       "      <td>Sun May 31 08:20:52 PDT 2009</td>\n",
       "      <td>NO_QUERY</td>\n",
       "      <td>mcraddictal</td>\n",
       "      <td>@Boy_Kill_Boy  so was haunting in ct. That mov...</td>\n",
       "    </tr>\n",
       "  </tbody>\n",
       "</table>\n",
       "</div>"
      ],
      "text/plain": [
       "       emotion    tweet_id                          date lyx_query  \\\n",
       "Id                                                                   \n",
       "2337         0  2059074446  Sat Jun 06 16:11:42 PDT 2009  NO_QUERY   \n",
       "2815         0  1968268387  Fri May 29 21:05:43 PDT 2009  NO_QUERY   \n",
       "7448         0  2052420061  Sat Jun 06 00:40:11 PDT 2009  NO_QUERY   \n",
       "10092        0  2061250826  Sat Jun 06 20:29:01 PDT 2009  NO_QUERY   \n",
       "13533        0  1981070459  Sun May 31 08:20:52 PDT 2009  NO_QUERY   \n",
       "\n",
       "              user                                               text  \n",
       "Id                                                                     \n",
       "2337   mcraddictal  @MyCheMicALmuse pleaseeee tell me? -bites nail...  \n",
       "2815   mcraddictal                                        @MCRmuffin   \n",
       "7448   mcraddictal     @chemicalzombie dont make me say it  you know.  \n",
       "10092  mcraddictal  @NoRaptors noooooo begging  i hate that. I'm s...  \n",
       "13533  mcraddictal  @Boy_Kill_Boy  so was haunting in ct. That mov...  "
      ]
     },
     "execution_count": 8,
     "metadata": {},
     "output_type": "execute_result"
    }
   ],
   "source": [
    "emote[emote[\"user\"] == \"mcraddictal\"].sum() # 54/226 positive messages\n",
    "emote[emote[\"user\"] == \"mcraddictal\"].head()"
   ]
  },
  {
   "cell_type": "markdown",
   "id": "exterior-world",
   "metadata": {},
   "source": [
    "Out of the 5 users that tweeted the most, it seems like 3 of them are some kind of bot or spam bot. The 4th and 5th ones seem to be random users from which we got a lot tweets in the database.\n",
    "All these users show pattern in their sent tweets. Indeed, they tend to send messages that are not balanced towards their emotion. 'Lost_dog' and 'tweetpet' both sent only negative tweets out of hundreds of them. 'webwoke' and 'mcraddictal' also sent largely negative tweets while 'VioletsCRUK' sent mostly positive tweets. We'll take this information into account when trying to classify further tweets."
   ]
  },
  {
   "cell_type": "code",
   "execution_count": 65,
   "id": "subsequent-jones",
   "metadata": {},
   "outputs": [
    {
     "data": {
      "text/html": [
       "<div>\n",
       "<style scoped>\n",
       "    .dataframe tbody tr th:only-of-type {\n",
       "        vertical-align: middle;\n",
       "    }\n",
       "\n",
       "    .dataframe tbody tr th {\n",
       "        vertical-align: top;\n",
       "    }\n",
       "\n",
       "    .dataframe thead th {\n",
       "        text-align: right;\n",
       "    }\n",
       "</style>\n",
       "<table border=\"1\" class=\"dataframe\">\n",
       "  <thead>\n",
       "    <tr style=\"text-align: right;\">\n",
       "      <th></th>\n",
       "      <th>emotion</th>\n",
       "      <th>user</th>\n",
       "      <th>text</th>\n",
       "    </tr>\n",
       "    <tr>\n",
       "      <th>Id</th>\n",
       "      <th></th>\n",
       "      <th></th>\n",
       "      <th></th>\n",
       "    </tr>\n",
       "  </thead>\n",
       "  <tbody>\n",
       "    <tr>\n",
       "      <th>0</th>\n",
       "      <td>1</td>\n",
       "      <td>BerryGurus</td>\n",
       "      <td>@BreeMe more time to play with you BlackBerry ...</td>\n",
       "    </tr>\n",
       "    <tr>\n",
       "      <th>1</th>\n",
       "      <td>0</td>\n",
       "      <td>peterlanoie</td>\n",
       "      <td>Failed attempt at booting to a flash drive. Th...</td>\n",
       "    </tr>\n",
       "    <tr>\n",
       "      <th>2</th>\n",
       "      <td>0</td>\n",
       "      <td>will_tooker</td>\n",
       "      <td>@msproductions Well ain't that the truth. Wher...</td>\n",
       "    </tr>\n",
       "    <tr>\n",
       "      <th>3</th>\n",
       "      <td>1</td>\n",
       "      <td>sammutimer</td>\n",
       "      <td>@Meaghery cheers Craig - that was really sweet...</td>\n",
       "    </tr>\n",
       "    <tr>\n",
       "      <th>4</th>\n",
       "      <td>0</td>\n",
       "      <td>ohaijustin</td>\n",
       "      <td>I was reading the tweets that got send to me w...</td>\n",
       "    </tr>\n",
       "  </tbody>\n",
       "</table>\n",
       "</div>"
      ],
      "text/plain": [
       "    emotion         user                                               text\n",
       "Id                                                                         \n",
       "0         1   BerryGurus  @BreeMe more time to play with you BlackBerry ...\n",
       "1         0  peterlanoie  Failed attempt at booting to a flash drive. Th...\n",
       "2         0  will_tooker  @msproductions Well ain't that the truth. Wher...\n",
       "3         1   sammutimer  @Meaghery cheers Craig - that was really sweet...\n",
       "4         0   ohaijustin  I was reading the tweets that got send to me w..."
      ]
     },
     "execution_count": 65,
     "metadata": {},
     "output_type": "execute_result"
    }
   ],
   "source": [
    "emote = emote[['emotion', 'user', 'text']]\n",
    "emote.head()"
   ]
  },
  {
   "cell_type": "markdown",
   "id": "suffering-liver",
   "metadata": {},
   "source": [
    "We add a column with the number of words per tweet:"
   ]
  },
  {
   "cell_type": "code",
   "execution_count": null,
   "id": "smoking-farming",
   "metadata": {},
   "outputs": [],
   "source": [
    "emote['length'] = emote['text'].apply(lambda x: len(x.split(' ')))\n",
    "emote.head()"
   ]
  },
  {
   "cell_type": "code",
   "execution_count": 67,
   "id": "awful-wallpaper",
   "metadata": {},
   "outputs": [
    {
     "name": "stdout",
     "output_type": "stream",
     "text": [
      "Largest tweet length: 110\n"
     ]
    }
   ],
   "source": [
    "max_tweet = max(emote[\"length\"])\n",
    "print('Largest tweet length:', max_tweet)"
   ]
  },
  {
   "cell_type": "markdown",
   "id": "reported-consumer",
   "metadata": {},
   "source": [
    " "
   ]
  },
  {
   "cell_type": "markdown",
   "id": "specified-berry",
   "metadata": {},
   "source": [
    "### Symbols\n",
    "Make text lowercase, remove text in square brackets,remove links,remove punctuation\n",
    "    and remove words containing numbers:"
   ]
  },
  {
   "cell_type": "code",
   "execution_count": 15,
   "id": "sexual-process",
   "metadata": {},
   "outputs": [],
   "source": [
    "def clean_text(text):\n",
    "    text = str(text).lower()\n",
    "    text = re.sub('\\[.*?\\]', '', text)\n",
    "    text = re.sub('https?://\\S+|www\\.\\S+', '', text)\n",
    "    text = re.sub('<.*?>+', '', text)\n",
    "    text = re.sub('[%s]' % re.escape(string.punctuation), '', text)\n",
    "    text = re.sub('\\n', '', text)\n",
    "    text = re.sub('\\w*\\d\\w*', '', text)\n",
    "\n",
    "    return text"
   ]
  },
  {
   "cell_type": "code",
   "execution_count": 16,
   "id": "exclusive-making",
   "metadata": {},
   "outputs": [
    {
     "data": {
      "text/html": [
       "<div>\n",
       "<style scoped>\n",
       "    .dataframe tbody tr th:only-of-type {\n",
       "        vertical-align: middle;\n",
       "    }\n",
       "\n",
       "    .dataframe tbody tr th {\n",
       "        vertical-align: top;\n",
       "    }\n",
       "\n",
       "    .dataframe thead th {\n",
       "        text-align: right;\n",
       "    }\n",
       "</style>\n",
       "<table border=\"1\" class=\"dataframe\">\n",
       "  <thead>\n",
       "    <tr style=\"text-align: right;\">\n",
       "      <th></th>\n",
       "      <th>emotion</th>\n",
       "      <th>tweet_id</th>\n",
       "      <th>date</th>\n",
       "      <th>lyx_query</th>\n",
       "      <th>user</th>\n",
       "      <th>text</th>\n",
       "      <th>text_clean</th>\n",
       "    </tr>\n",
       "    <tr>\n",
       "      <th>Id</th>\n",
       "      <th></th>\n",
       "      <th></th>\n",
       "      <th></th>\n",
       "      <th></th>\n",
       "      <th></th>\n",
       "      <th></th>\n",
       "      <th></th>\n",
       "    </tr>\n",
       "  </thead>\n",
       "  <tbody>\n",
       "    <tr>\n",
       "      <th>0</th>\n",
       "      <td>1</td>\n",
       "      <td>2063391019</td>\n",
       "      <td>Sun Jun 07 02:28:13 PDT 2009</td>\n",
       "      <td>NO_QUERY</td>\n",
       "      <td>BerryGurus</td>\n",
       "      <td>@BreeMe more time to play with you BlackBerry ...</td>\n",
       "      <td>breeme more time to play with you blackberry t...</td>\n",
       "    </tr>\n",
       "    <tr>\n",
       "      <th>1</th>\n",
       "      <td>0</td>\n",
       "      <td>2000525676</td>\n",
       "      <td>Mon Jun 01 22:18:53 PDT 2009</td>\n",
       "      <td>NO_QUERY</td>\n",
       "      <td>peterlanoie</td>\n",
       "      <td>Failed attempt at booting to a flash drive. Th...</td>\n",
       "      <td>failed attempt at booting to a flash drive the...</td>\n",
       "    </tr>\n",
       "    <tr>\n",
       "      <th>2</th>\n",
       "      <td>0</td>\n",
       "      <td>2218180611</td>\n",
       "      <td>Wed Jun 17 22:01:38 PDT 2009</td>\n",
       "      <td>NO_QUERY</td>\n",
       "      <td>will_tooker</td>\n",
       "      <td>@msproductions Well ain't that the truth. Wher...</td>\n",
       "      <td>msproductions well aint that the truth whered ...</td>\n",
       "    </tr>\n",
       "    <tr>\n",
       "      <th>3</th>\n",
       "      <td>1</td>\n",
       "      <td>2190269101</td>\n",
       "      <td>Tue Jun 16 02:14:47 PDT 2009</td>\n",
       "      <td>NO_QUERY</td>\n",
       "      <td>sammutimer</td>\n",
       "      <td>@Meaghery cheers Craig - that was really sweet...</td>\n",
       "      <td>meaghery cheers craig  that was really sweet o...</td>\n",
       "    </tr>\n",
       "    <tr>\n",
       "      <th>4</th>\n",
       "      <td>0</td>\n",
       "      <td>2069249490</td>\n",
       "      <td>Sun Jun 07 15:31:58 PDT 2009</td>\n",
       "      <td>NO_QUERY</td>\n",
       "      <td>ohaijustin</td>\n",
       "      <td>I was reading the tweets that got send to me w...</td>\n",
       "      <td>i was reading the tweets that got send to me w...</td>\n",
       "    </tr>\n",
       "  </tbody>\n",
       "</table>\n",
       "</div>"
      ],
      "text/plain": [
       "    emotion    tweet_id                          date lyx_query         user  \\\n",
       "Id                                                                             \n",
       "0         1  2063391019  Sun Jun 07 02:28:13 PDT 2009  NO_QUERY   BerryGurus   \n",
       "1         0  2000525676  Mon Jun 01 22:18:53 PDT 2009  NO_QUERY  peterlanoie   \n",
       "2         0  2218180611  Wed Jun 17 22:01:38 PDT 2009  NO_QUERY  will_tooker   \n",
       "3         1  2190269101  Tue Jun 16 02:14:47 PDT 2009  NO_QUERY   sammutimer   \n",
       "4         0  2069249490  Sun Jun 07 15:31:58 PDT 2009  NO_QUERY   ohaijustin   \n",
       "\n",
       "                                                 text  \\\n",
       "Id                                                      \n",
       "0   @BreeMe more time to play with you BlackBerry ...   \n",
       "1   Failed attempt at booting to a flash drive. Th...   \n",
       "2   @msproductions Well ain't that the truth. Wher...   \n",
       "3   @Meaghery cheers Craig - that was really sweet...   \n",
       "4   I was reading the tweets that got send to me w...   \n",
       "\n",
       "                                           text_clean  \n",
       "Id                                                     \n",
       "0   breeme more time to play with you blackberry t...  \n",
       "1   failed attempt at booting to a flash drive the...  \n",
       "2   msproductions well aint that the truth whered ...  \n",
       "3   meaghery cheers craig  that was really sweet o...  \n",
       "4   i was reading the tweets that got send to me w...  "
      ]
     },
     "execution_count": 16,
     "metadata": {},
     "output_type": "execute_result"
    }
   ],
   "source": [
    "emote['text_clean'] = emote['text'].apply(clean_text) #maybe remove the name with the @\n",
    "emote.head()"
   ]
  },
  {
   "cell_type": "markdown",
   "id": "dutch-mount",
   "metadata": {},
   "source": [
    " "
   ]
  },
  {
   "cell_type": "markdown",
   "id": "universal-bowling",
   "metadata": {},
   "source": [
    "### Stopwords\n",
    "Remove stopwords (a list of not useful english words like 'the', 'at', etc.). It permits to reduce dimension of the data when tokenizing."
   ]
  },
  {
   "cell_type": "code",
   "execution_count": 18,
   "id": "controlling-eight",
   "metadata": {},
   "outputs": [
    {
     "data": {
      "text/html": [
       "<div>\n",
       "<style scoped>\n",
       "    .dataframe tbody tr th:only-of-type {\n",
       "        vertical-align: middle;\n",
       "    }\n",
       "\n",
       "    .dataframe tbody tr th {\n",
       "        vertical-align: top;\n",
       "    }\n",
       "\n",
       "    .dataframe thead th {\n",
       "        text-align: right;\n",
       "    }\n",
       "</style>\n",
       "<table border=\"1\" class=\"dataframe\">\n",
       "  <thead>\n",
       "    <tr style=\"text-align: right;\">\n",
       "      <th></th>\n",
       "      <th>emotion</th>\n",
       "      <th>tweet_id</th>\n",
       "      <th>date</th>\n",
       "      <th>lyx_query</th>\n",
       "      <th>user</th>\n",
       "      <th>text</th>\n",
       "      <th>text_clean</th>\n",
       "    </tr>\n",
       "    <tr>\n",
       "      <th>Id</th>\n",
       "      <th></th>\n",
       "      <th></th>\n",
       "      <th></th>\n",
       "      <th></th>\n",
       "      <th></th>\n",
       "      <th></th>\n",
       "      <th></th>\n",
       "    </tr>\n",
       "  </thead>\n",
       "  <tbody>\n",
       "    <tr>\n",
       "      <th>0</th>\n",
       "      <td>1</td>\n",
       "      <td>2063391019</td>\n",
       "      <td>Sun Jun 07 02:28:13 PDT 2009</td>\n",
       "      <td>NO_QUERY</td>\n",
       "      <td>BerryGurus</td>\n",
       "      <td>@BreeMe more time to play with you BlackBerry ...</td>\n",
       "      <td>breeme time play blackberry</td>\n",
       "    </tr>\n",
       "    <tr>\n",
       "      <th>1</th>\n",
       "      <td>0</td>\n",
       "      <td>2000525676</td>\n",
       "      <td>Mon Jun 01 22:18:53 PDT 2009</td>\n",
       "      <td>NO_QUERY</td>\n",
       "      <td>peterlanoie</td>\n",
       "      <td>Failed attempt at booting to a flash drive. Th...</td>\n",
       "      <td>failed attempt booting flash drive failed atte...</td>\n",
       "    </tr>\n",
       "    <tr>\n",
       "      <th>2</th>\n",
       "      <td>0</td>\n",
       "      <td>2218180611</td>\n",
       "      <td>Wed Jun 17 22:01:38 PDT 2009</td>\n",
       "      <td>NO_QUERY</td>\n",
       "      <td>will_tooker</td>\n",
       "      <td>@msproductions Well ain't that the truth. Wher...</td>\n",
       "      <td>msproductions well aint truth whered damn auto...</td>\n",
       "    </tr>\n",
       "    <tr>\n",
       "      <th>3</th>\n",
       "      <td>1</td>\n",
       "      <td>2190269101</td>\n",
       "      <td>Tue Jun 16 02:14:47 PDT 2009</td>\n",
       "      <td>NO_QUERY</td>\n",
       "      <td>sammutimer</td>\n",
       "      <td>@Meaghery cheers Craig - that was really sweet...</td>\n",
       "      <td>meaghery cheers craig  really sweet reply pumped</td>\n",
       "    </tr>\n",
       "    <tr>\n",
       "      <th>4</th>\n",
       "      <td>0</td>\n",
       "      <td>2069249490</td>\n",
       "      <td>Sun Jun 07 15:31:58 PDT 2009</td>\n",
       "      <td>NO_QUERY</td>\n",
       "      <td>ohaijustin</td>\n",
       "      <td>I was reading the tweets that got send to me w...</td>\n",
       "      <td>reading tweets got send lying phone face dropp...</td>\n",
       "    </tr>\n",
       "  </tbody>\n",
       "</table>\n",
       "</div>"
      ],
      "text/plain": [
       "    emotion    tweet_id                          date lyx_query         user  \\\n",
       "Id                                                                             \n",
       "0         1  2063391019  Sun Jun 07 02:28:13 PDT 2009  NO_QUERY   BerryGurus   \n",
       "1         0  2000525676  Mon Jun 01 22:18:53 PDT 2009  NO_QUERY  peterlanoie   \n",
       "2         0  2218180611  Wed Jun 17 22:01:38 PDT 2009  NO_QUERY  will_tooker   \n",
       "3         1  2190269101  Tue Jun 16 02:14:47 PDT 2009  NO_QUERY   sammutimer   \n",
       "4         0  2069249490  Sun Jun 07 15:31:58 PDT 2009  NO_QUERY   ohaijustin   \n",
       "\n",
       "                                                 text  \\\n",
       "Id                                                      \n",
       "0   @BreeMe more time to play with you BlackBerry ...   \n",
       "1   Failed attempt at booting to a flash drive. Th...   \n",
       "2   @msproductions Well ain't that the truth. Wher...   \n",
       "3   @Meaghery cheers Craig - that was really sweet...   \n",
       "4   I was reading the tweets that got send to me w...   \n",
       "\n",
       "                                           text_clean  \n",
       "Id                                                     \n",
       "0                        breeme time play blackberry   \n",
       "1   failed attempt booting flash drive failed atte...  \n",
       "2   msproductions well aint truth whered damn auto...  \n",
       "3   meaghery cheers craig  really sweet reply pumped   \n",
       "4   reading tweets got send lying phone face dropp...  "
      ]
     },
     "execution_count": 18,
     "metadata": {},
     "output_type": "execute_result"
    }
   ],
   "source": [
    "stop_words = stopwords.words('english')\n",
    "more_stopwords = ['u', 'im', 'c']\n",
    "stop_words = stop_words + more_stopwords\n",
    "\n",
    "def remove_stopwords(text):\n",
    "    text = ' '.join(word for word in text.split(' ') if word not in stop_words)\n",
    "    return text\n",
    "    \n",
    "emote['text_clean'] = emote['text_clean'].apply(remove_stopwords)\n",
    "emote.head()"
   ]
  },
  {
   "cell_type": "markdown",
   "id": "decimal-pocket",
   "metadata": {},
   "source": [
    " "
   ]
  },
  {
   "cell_type": "markdown",
   "id": "ahead-guitar",
   "metadata": {},
   "source": [
    "### Stemming/ Lematization\n",
    "\n",
    "Stemming cuts off prefixes and suffixes (ex: laziness -> lazi). Lemma converts words (ex: writing, writes) into its radical (ex: write)."
   ]
  },
  {
   "cell_type": "code",
   "execution_count": 19,
   "id": "nuclear-decrease",
   "metadata": {},
   "outputs": [],
   "source": [
    "stemmer = nltk.SnowballStemmer(\"english\")\n",
    "\n",
    "def stemm_text(text):\n",
    "    text = ' '.join(stemmer.stem(word) for word in text.split(' '))\n",
    "    return text"
   ]
  },
  {
   "cell_type": "code",
   "execution_count": 20,
   "id": "diagnostic-albert",
   "metadata": {},
   "outputs": [
    {
     "data": {
      "text/html": [
       "<div>\n",
       "<style scoped>\n",
       "    .dataframe tbody tr th:only-of-type {\n",
       "        vertical-align: middle;\n",
       "    }\n",
       "\n",
       "    .dataframe tbody tr th {\n",
       "        vertical-align: top;\n",
       "    }\n",
       "\n",
       "    .dataframe thead th {\n",
       "        text-align: right;\n",
       "    }\n",
       "</style>\n",
       "<table border=\"1\" class=\"dataframe\">\n",
       "  <thead>\n",
       "    <tr style=\"text-align: right;\">\n",
       "      <th></th>\n",
       "      <th>emotion</th>\n",
       "      <th>tweet_id</th>\n",
       "      <th>date</th>\n",
       "      <th>lyx_query</th>\n",
       "      <th>user</th>\n",
       "      <th>text</th>\n",
       "      <th>text_clean</th>\n",
       "    </tr>\n",
       "    <tr>\n",
       "      <th>Id</th>\n",
       "      <th></th>\n",
       "      <th></th>\n",
       "      <th></th>\n",
       "      <th></th>\n",
       "      <th></th>\n",
       "      <th></th>\n",
       "      <th></th>\n",
       "    </tr>\n",
       "  </thead>\n",
       "  <tbody>\n",
       "    <tr>\n",
       "      <th>0</th>\n",
       "      <td>1</td>\n",
       "      <td>2063391019</td>\n",
       "      <td>Sun Jun 07 02:28:13 PDT 2009</td>\n",
       "      <td>NO_QUERY</td>\n",
       "      <td>BerryGurus</td>\n",
       "      <td>@BreeMe more time to play with you BlackBerry ...</td>\n",
       "      <td>breem time play blackberri</td>\n",
       "    </tr>\n",
       "    <tr>\n",
       "      <th>1</th>\n",
       "      <td>0</td>\n",
       "      <td>2000525676</td>\n",
       "      <td>Mon Jun 01 22:18:53 PDT 2009</td>\n",
       "      <td>NO_QUERY</td>\n",
       "      <td>peterlanoie</td>\n",
       "      <td>Failed attempt at booting to a flash drive. Th...</td>\n",
       "      <td>fail attempt boot flash drive fail attempt swi...</td>\n",
       "    </tr>\n",
       "    <tr>\n",
       "      <th>2</th>\n",
       "      <td>0</td>\n",
       "      <td>2218180611</td>\n",
       "      <td>Wed Jun 17 22:01:38 PDT 2009</td>\n",
       "      <td>NO_QUERY</td>\n",
       "      <td>will_tooker</td>\n",
       "      <td>@msproductions Well ain't that the truth. Wher...</td>\n",
       "      <td>msproduct well aint truth where damn autolock ...</td>\n",
       "    </tr>\n",
       "    <tr>\n",
       "      <th>3</th>\n",
       "      <td>1</td>\n",
       "      <td>2190269101</td>\n",
       "      <td>Tue Jun 16 02:14:47 PDT 2009</td>\n",
       "      <td>NO_QUERY</td>\n",
       "      <td>sammutimer</td>\n",
       "      <td>@Meaghery cheers Craig - that was really sweet...</td>\n",
       "      <td>meagheri cheer craig  realli sweet repli pump</td>\n",
       "    </tr>\n",
       "    <tr>\n",
       "      <th>4</th>\n",
       "      <td>0</td>\n",
       "      <td>2069249490</td>\n",
       "      <td>Sun Jun 07 15:31:58 PDT 2009</td>\n",
       "      <td>NO_QUERY</td>\n",
       "      <td>ohaijustin</td>\n",
       "      <td>I was reading the tweets that got send to me w...</td>\n",
       "      <td>read tweet got send lie phone face drop ampit ...</td>\n",
       "    </tr>\n",
       "  </tbody>\n",
       "</table>\n",
       "</div>"
      ],
      "text/plain": [
       "    emotion    tweet_id                          date lyx_query         user  \\\n",
       "Id                                                                             \n",
       "0         1  2063391019  Sun Jun 07 02:28:13 PDT 2009  NO_QUERY   BerryGurus   \n",
       "1         0  2000525676  Mon Jun 01 22:18:53 PDT 2009  NO_QUERY  peterlanoie   \n",
       "2         0  2218180611  Wed Jun 17 22:01:38 PDT 2009  NO_QUERY  will_tooker   \n",
       "3         1  2190269101  Tue Jun 16 02:14:47 PDT 2009  NO_QUERY   sammutimer   \n",
       "4         0  2069249490  Sun Jun 07 15:31:58 PDT 2009  NO_QUERY   ohaijustin   \n",
       "\n",
       "                                                 text  \\\n",
       "Id                                                      \n",
       "0   @BreeMe more time to play with you BlackBerry ...   \n",
       "1   Failed attempt at booting to a flash drive. Th...   \n",
       "2   @msproductions Well ain't that the truth. Wher...   \n",
       "3   @Meaghery cheers Craig - that was really sweet...   \n",
       "4   I was reading the tweets that got send to me w...   \n",
       "\n",
       "                                           text_clean  \n",
       "Id                                                     \n",
       "0                         breem time play blackberri   \n",
       "1   fail attempt boot flash drive fail attempt swi...  \n",
       "2   msproduct well aint truth where damn autolock ...  \n",
       "3      meagheri cheer craig  realli sweet repli pump   \n",
       "4   read tweet got send lie phone face drop ampit ...  "
      ]
     },
     "execution_count": 20,
     "metadata": {},
     "output_type": "execute_result"
    }
   ],
   "source": [
    "emote['text_clean'] = emote['text_clean'].apply(stemm_text)\n",
    "emote.head()"
   ]
  },
  {
   "cell_type": "markdown",
   "id": "polyphonic-performer",
   "metadata": {},
   "source": [
    " "
   ]
  },
  {
   "cell_type": "markdown",
   "id": "proprietary-thompson",
   "metadata": {},
   "source": [
    "### Wordclouds"
   ]
  },
  {
   "cell_type": "code",
   "execution_count": 12,
   "id": "rural-initial",
   "metadata": {},
   "outputs": [],
   "source": [
    "#pip install wordcloud\n",
    "from wordcloud import WordCloud\n",
    "from PIL import Image"
   ]
  },
  {
   "cell_type": "code",
   "execution_count": 21,
   "id": "vital-lambda",
   "metadata": {},
   "outputs": [
    {
     "data": {
      "image/png": "[encoded data removed]",
      "text/plain": [
       "<Figure size 1296x720 with 1 Axes>"
      ]
     },
     "metadata": {},
     "output_type": "display_data"
    }
   ],
   "source": [
    "twitter_mask = np.array(Image.open('user.jpeg'))\n",
    "\n",
    "wc = WordCloud(\n",
    "    background_color='white', \n",
    "    max_words=200, \n",
    "    mask=twitter_mask,\n",
    ")\n",
    "wc.generate(' '.join(text for text in emote.loc[emote['emotion'] == 1, 'text_clean']))\n",
    "plt.figure(figsize=(18,10))\n",
    "plt.title('Top words for positive messages', \n",
    "          fontdict={'size': 22,  'verticalalignment': 'bottom'})\n",
    "plt.imshow(wc)\n",
    "plt.axis(\"off\")\n",
    "plt.show()"
   ]
  },
  {
   "cell_type": "code",
   "execution_count": 23,
   "id": "intellectual-transfer",
   "metadata": {},
   "outputs": [
    {
     "data": {
      "image/png": "[encoded data removed]",
      "text/plain": [
       "<Figure size 1296x720 with 1 Axes>"
      ]
     },
     "metadata": {},
     "output_type": "display_data"
    }
   ],
   "source": [
    "twitter_mask = np.array(Image.open('user.jpeg'))\n",
    "\n",
    "wc = WordCloud(\n",
    "    background_color='white', \n",
    "    max_words=200, \n",
    "    mask=twitter_mask,\n",
    ")\n",
    "wc.generate(' '.join(text for text in emote.loc[emote['emotion'] == 0, 'text_clean']))\n",
    "plt.figure(figsize=(18,10))\n",
    "plt.title('Top words for negative messages', \n",
    "          fontdict={'size': 22,  'verticalalignment': 'bottom'})\n",
    "plt.imshow(wc)\n",
    "plt.axis(\"off\")\n",
    "plt.show()"
   ]
  },
  {
   "cell_type": "markdown",
   "id": "alpha-collectible",
   "metadata": {},
   "source": [
    "A nice representation of the most used words in each sentiment-type of messages"
   ]
  },
  {
   "cell_type": "markdown",
   "id": "imposed-scottish",
   "metadata": {},
   "source": [
    "Now that we've taken a good first look at our data. We'll try to compute some models. Since we're trying to predict a binary outcome that is the sentiment of a given tweet, we'll proceed with classification modelling. In order to do so, we first need to transform our text data into digits so that we can apply our models. We do so by using techniques that transform our data into numbers then work on the words frequency. As we were led to believe from the 5 most talkative (+ we compared models with and without) that usernames are good source of information towards predicting further sentiment (in this dataset), we combine the text and username as our predictors for further modelling. "
   ]
  },
  {
   "cell_type": "code",
   "execution_count": null,
   "id": "overall-curve",
   "metadata": {},
   "outputs": [],
   "source": [
    "emote_cut = emote.drop(emote.index[640000:1280000])\n",
    "print(\"Cropped dataset shape:\", emote_cut.shape)\n",
    "X_train, X_test, y_train, y_test = train_test_split((emote.text + emote.user), emote.emotion, test_size=0.1, random_state=37)\n",
    "print(\"First 5 entries of training dataset :\", X_train.head())"
   ]
  },
  {
   "cell_type": "markdown",
   "id": "happy-poison",
   "metadata": {},
   "source": [
    " "
   ]
  },
  {
   "cell_type": "markdown",
   "id": "focused-order",
   "metadata": {},
   "source": [
    "### Feature Engineering : Bag of words"
   ]
  },
  {
   "cell_type": "markdown",
   "id": "ceramic-agent",
   "metadata": {},
   "source": [
    "##### The Vectorization and TF-IDF method"
   ]
  },
  {
   "cell_type": "markdown",
   "id": "guided-browse",
   "metadata": {},
   "source": [
    "We will extract the numerical features of our text content using a first tool that will vectorize our corpus then a second one that will take into account the frequency of appearance of our words tokens. \n",
    "\n",
    "First, we make use of CountVectorizer. This method tokenizes strings of words by transforming them into tokens (using white spaces as token separators)\n",
    "\n",
    "\n",
    "Using CountVectorizer to tokenize and count the occurences of words in our text dataset."
   ]
  },
  {
   "cell_type": "code",
   "execution_count": 135,
   "id": "brief-crystal",
   "metadata": {},
   "outputs": [
    {
     "ename": "AttributeError",
     "evalue": "'numpy.ndarray' object has no attribute 'lower'",
     "output_type": "error",
     "traceback": [
      "\u001b[1;31m---------------------------------------------------------------------------\u001b[0m",
      "\u001b[1;31mAttributeError\u001b[0m                            Traceback (most recent call last)",
      "\u001b[1;32m<ipython-input-135-b3f3074130bf>\u001b[0m in \u001b[0;36m<module>\u001b[1;34m\u001b[0m\n\u001b[0;32m      1\u001b[0m \u001b[0mcount_vect\u001b[0m \u001b[1;33m=\u001b[0m \u001b[0mCountVectorizer\u001b[0m\u001b[1;33m(\u001b[0m\u001b[0mngram_range\u001b[0m\u001b[1;33m=\u001b[0m\u001b[1;33m(\u001b[0m\u001b[1;36m1\u001b[0m\u001b[1;33m,\u001b[0m \u001b[1;36m3\u001b[0m\u001b[1;33m)\u001b[0m\u001b[1;33m,\u001b[0m \u001b[0mtoken_pattern\u001b[0m\u001b[1;33m=\u001b[0m\u001b[1;34mr'\\b\\w+\\b'\u001b[0m\u001b[1;33m,\u001b[0m \u001b[0mmin_df\u001b[0m\u001b[1;33m=\u001b[0m\u001b[1;36m1\u001b[0m\u001b[1;33m)\u001b[0m\u001b[1;33m\u001b[0m\u001b[1;33m\u001b[0m\u001b[0m\n\u001b[1;32m----> 2\u001b[1;33m \u001b[0mX_train_counts\u001b[0m \u001b[1;33m=\u001b[0m \u001b[0mcount_vect\u001b[0m\u001b[1;33m.\u001b[0m\u001b[0mfit_transform\u001b[0m\u001b[1;33m(\u001b[0m\u001b[0mX_train\u001b[0m\u001b[1;33m)\u001b[0m\u001b[1;33m\u001b[0m\u001b[1;33m\u001b[0m\u001b[0m\n\u001b[0m\u001b[0;32m      3\u001b[0m \u001b[0mX_train_counts\u001b[0m\u001b[1;33m.\u001b[0m\u001b[0mshape\u001b[0m\u001b[1;33m\u001b[0m\u001b[1;33m\u001b[0m\u001b[0m\n",
      "\u001b[1;32m~\\Anaconda3\\lib\\site-packages\\sklearn\\feature_extraction\\text.py\u001b[0m in \u001b[0;36mfit_transform\u001b[1;34m(self, raw_documents, y)\u001b[0m\n\u001b[0;32m   1202\u001b[0m \u001b[1;33m\u001b[0m\u001b[0m\n\u001b[0;32m   1203\u001b[0m         vocabulary, X = self._count_vocab(raw_documents,\n\u001b[1;32m-> 1204\u001b[1;33m                                           self.fixed_vocabulary_)\n\u001b[0m\u001b[0;32m   1205\u001b[0m \u001b[1;33m\u001b[0m\u001b[0m\n\u001b[0;32m   1206\u001b[0m         \u001b[1;32mif\u001b[0m \u001b[0mself\u001b[0m\u001b[1;33m.\u001b[0m\u001b[0mbinary\u001b[0m\u001b[1;33m:\u001b[0m\u001b[1;33m\u001b[0m\u001b[1;33m\u001b[0m\u001b[0m\n",
      "\u001b[1;32m~\\Anaconda3\\lib\\site-packages\\sklearn\\feature_extraction\\text.py\u001b[0m in \u001b[0;36m_count_vocab\u001b[1;34m(self, raw_documents, fixed_vocab)\u001b[0m\n\u001b[0;32m   1113\u001b[0m         \u001b[1;32mfor\u001b[0m \u001b[0mdoc\u001b[0m \u001b[1;32min\u001b[0m \u001b[0mraw_documents\u001b[0m\u001b[1;33m:\u001b[0m\u001b[1;33m\u001b[0m\u001b[1;33m\u001b[0m\u001b[0m\n\u001b[0;32m   1114\u001b[0m             \u001b[0mfeature_counter\u001b[0m \u001b[1;33m=\u001b[0m \u001b[1;33m{\u001b[0m\u001b[1;33m}\u001b[0m\u001b[1;33m\u001b[0m\u001b[1;33m\u001b[0m\u001b[0m\n\u001b[1;32m-> 1115\u001b[1;33m             \u001b[1;32mfor\u001b[0m \u001b[0mfeature\u001b[0m \u001b[1;32min\u001b[0m \u001b[0manalyze\u001b[0m\u001b[1;33m(\u001b[0m\u001b[0mdoc\u001b[0m\u001b[1;33m)\u001b[0m\u001b[1;33m:\u001b[0m\u001b[1;33m\u001b[0m\u001b[1;33m\u001b[0m\u001b[0m\n\u001b[0m\u001b[0;32m   1116\u001b[0m                 \u001b[1;32mtry\u001b[0m\u001b[1;33m:\u001b[0m\u001b[1;33m\u001b[0m\u001b[1;33m\u001b[0m\u001b[0m\n\u001b[0;32m   1117\u001b[0m                     \u001b[0mfeature_idx\u001b[0m \u001b[1;33m=\u001b[0m \u001b[0mvocabulary\u001b[0m\u001b[1;33m[\u001b[0m\u001b[0mfeature\u001b[0m\u001b[1;33m]\u001b[0m\u001b[1;33m\u001b[0m\u001b[1;33m\u001b[0m\u001b[0m\n",
      "\u001b[1;32m~\\Anaconda3\\lib\\site-packages\\sklearn\\feature_extraction\\text.py\u001b[0m in \u001b[0;36m_analyze\u001b[1;34m(doc, analyzer, tokenizer, ngrams, preprocessor, decoder, stop_words)\u001b[0m\n\u001b[0;32m    102\u001b[0m     \u001b[1;32melse\u001b[0m\u001b[1;33m:\u001b[0m\u001b[1;33m\u001b[0m\u001b[1;33m\u001b[0m\u001b[0m\n\u001b[0;32m    103\u001b[0m         \u001b[1;32mif\u001b[0m \u001b[0mpreprocessor\u001b[0m \u001b[1;32mis\u001b[0m \u001b[1;32mnot\u001b[0m \u001b[1;32mNone\u001b[0m\u001b[1;33m:\u001b[0m\u001b[1;33m\u001b[0m\u001b[1;33m\u001b[0m\u001b[0m\n\u001b[1;32m--> 104\u001b[1;33m             \u001b[0mdoc\u001b[0m \u001b[1;33m=\u001b[0m \u001b[0mpreprocessor\u001b[0m\u001b[1;33m(\u001b[0m\u001b[0mdoc\u001b[0m\u001b[1;33m)\u001b[0m\u001b[1;33m\u001b[0m\u001b[1;33m\u001b[0m\u001b[0m\n\u001b[0m\u001b[0;32m    105\u001b[0m         \u001b[1;32mif\u001b[0m \u001b[0mtokenizer\u001b[0m \u001b[1;32mis\u001b[0m \u001b[1;32mnot\u001b[0m \u001b[1;32mNone\u001b[0m\u001b[1;33m:\u001b[0m\u001b[1;33m\u001b[0m\u001b[1;33m\u001b[0m\u001b[0m\n\u001b[0;32m    106\u001b[0m             \u001b[0mdoc\u001b[0m \u001b[1;33m=\u001b[0m \u001b[0mtokenizer\u001b[0m\u001b[1;33m(\u001b[0m\u001b[0mdoc\u001b[0m\u001b[1;33m)\u001b[0m\u001b[1;33m\u001b[0m\u001b[1;33m\u001b[0m\u001b[0m\n",
      "\u001b[1;32m~\\Anaconda3\\lib\\site-packages\\sklearn\\feature_extraction\\text.py\u001b[0m in \u001b[0;36m_preprocess\u001b[1;34m(doc, accent_function, lower)\u001b[0m\n\u001b[0;32m     67\u001b[0m     \"\"\"\n\u001b[0;32m     68\u001b[0m     \u001b[1;32mif\u001b[0m \u001b[0mlower\u001b[0m\u001b[1;33m:\u001b[0m\u001b[1;33m\u001b[0m\u001b[1;33m\u001b[0m\u001b[0m\n\u001b[1;32m---> 69\u001b[1;33m         \u001b[0mdoc\u001b[0m \u001b[1;33m=\u001b[0m \u001b[0mdoc\u001b[0m\u001b[1;33m.\u001b[0m\u001b[0mlower\u001b[0m\u001b[1;33m(\u001b[0m\u001b[1;33m)\u001b[0m\u001b[1;33m\u001b[0m\u001b[1;33m\u001b[0m\u001b[0m\n\u001b[0m\u001b[0;32m     70\u001b[0m     \u001b[1;32mif\u001b[0m \u001b[0maccent_function\u001b[0m \u001b[1;32mis\u001b[0m \u001b[1;32mnot\u001b[0m \u001b[1;32mNone\u001b[0m\u001b[1;33m:\u001b[0m\u001b[1;33m\u001b[0m\u001b[1;33m\u001b[0m\u001b[0m\n\u001b[0;32m     71\u001b[0m         \u001b[0mdoc\u001b[0m \u001b[1;33m=\u001b[0m \u001b[0maccent_function\u001b[0m\u001b[1;33m(\u001b[0m\u001b[0mdoc\u001b[0m\u001b[1;33m)\u001b[0m\u001b[1;33m\u001b[0m\u001b[1;33m\u001b[0m\u001b[0m\n",
      "\u001b[1;31mAttributeError\u001b[0m: 'numpy.ndarray' object has no attribute 'lower'"
     ]
    }
   ],
   "source": [
    "count_vect = CountVectorizer(ngram_range=(1, 3), token_pattern=r'\\b\\w+\\b', min_df=1)\n",
    "X_train_counts = count_vect.fit_transform(X_train)\n",
    "X_train_counts.shape"
   ]
  },
  {
   "cell_type": "markdown",
   "id": "arctic-dodge",
   "metadata": {},
   "source": [
    "Now we reweight the words counts through TF-IDF so that they can be used by classifier methods."
   ]
  },
  {
   "cell_type": "code",
   "execution_count": null,
   "id": "armed-procurement",
   "metadata": {},
   "outputs": [],
   "source": [
    "tfidftransformer = TfidfTransformer()\n",
    "X_train_final = tfidftransformer.fit_transform(X_train_counts)\n",
    "X_train_final.shape"
   ]
  },
  {
   "cell_type": "markdown",
   "id": "weekly-vaccine",
   "metadata": {},
   "source": [
    " "
   ]
  },
  {
   "cell_type": "markdown",
   "id": "cellular-praise",
   "metadata": {},
   "source": [
    "# III. Model Selection"
   ]
  },
  {
   "cell_type": "markdown",
   "id": "unexpected-ecology",
   "metadata": {},
   "source": [
    "The aim of this project is to learn from our tweet training dataset in order to being able to classify new tweets as being of positive or negative emotion. This is a classification task with binary outcome. There are several models that we've seen in class that can be of help here. We decided to present you our 3 best classification regression models. This is followed by attempts at building a Neural Network model that could predict better the tweet sentiment."
   ]
  },
  {
   "cell_type": "markdown",
   "id": "moderate-antibody",
   "metadata": {},
   "source": [
    " "
   ]
  },
  {
   "cell_type": "markdown",
   "id": "improved-secretary",
   "metadata": {},
   "source": [
    "## Preprocessing Effectiveness"
   ]
  },
  {
   "cell_type": "markdown",
   "id": "significant-things",
   "metadata": {},
   "source": [
    "We will compare the effectiveness of preprocessing the data in the aim of increasing our prediction accuracy by comparing 2 models respectively including pre-processed data and unprocessed data."
   ]
  },
  {
   "cell_type": "markdown",
   "id": "funky-broad",
   "metadata": {},
   "source": [
    "Here's a first logistic model fit on 50 000 observations, with preprocessing :"
   ]
  },
  {
   "cell_type": "code",
   "execution_count": 46,
   "id": "flush-holly",
   "metadata": {},
   "outputs": [
    {
     "name": "stdout",
     "output_type": "stream",
     "text": [
      "Performing grid search...\n",
      "pipeline: ['vect', 'tfidf', 'log']\n",
      "parameters:\n",
      "{'log__C': (0.5, 0.75, 1.0),\n",
      " 'log__penalty': ('l2',),\n",
      " 'vect__ngram_range': ((1, 2), (1, 3))}\n",
      "Fitting 5 folds for each of 6 candidates, totalling 30 fits\n",
      "done in 45.296s\n",
      "\n",
      "Best score: 0.760\n",
      "Best parameters set:\n",
      "\tlog__C: 1.0\n",
      "\tlog__penalty: 'l2'\n",
      "\tvect__ngram_range: (1, 2)\n"
     ]
    }
   ],
   "source": [
    "pipeline_log = Pipeline([\n",
    "    ('vect', CountVectorizer()),\n",
    "    ('tfidf', TfidfTransformer()),\n",
    "    ('log', LogisticRegression()),\n",
    "])\n",
    "emote_cut = emote.drop(emote.index[50000:1280000])\n",
    "X_train, X_test, y_train, y_test = train_test_split((emote_cut.text + emote_cut.user), emote_cut.emotion, test_size=0.1, random_state=37)\n",
    "\n",
    "grid_search_log = GridSearchCV(pipeline_log, parameters_log, n_jobs=-1, verbose=1)\n",
    "\n",
    "print(\"Performing grid search...\")\n",
    "print(\"pipeline:\", [name for name, _ in pipeline_log.steps])\n",
    "print(\"parameters:\")\n",
    "pprint(parameters_log)\n",
    "t0 = time()\n",
    "grid_search_log.fit(emote_cut.text_clean, emote_cut.emotion)\n",
    "print(\"done in %0.3fs\" % (time() - t0))\n",
    "print()\n",
    "\n",
    "print(\"Best score: %0.3f\" % grid_search_log.best_score_)\n",
    "print(\"Best parameters set:\")\n",
    "best_parameters = grid_search_log.best_estimator_.get_params()\n",
    "for param_name in sorted(parameters_log.keys()):\n",
    "    print(\"\\t%s: %r\" % (param_name, best_parameters[param_name]))"
   ]
  },
  {
   "cell_type": "markdown",
   "id": "superb-defeat",
   "metadata": {},
   "source": [
    "We achieved a prediction score of 76% using logistic regression on 50 000 observations. Let's now compare this score with the one using the unprocessed data :"
   ]
  },
  {
   "cell_type": "code",
   "execution_count": 45,
   "id": "hundred-trout",
   "metadata": {},
   "outputs": [
    {
     "name": "stdout",
     "output_type": "stream",
     "text": [
      "Performing grid search...\n",
      "pipeline: ['vect', 'tfidf', 'log']\n",
      "parameters:\n",
      "{'log__C': (0.5, 0.75, 1.0),\n",
      " 'log__penalty': ('l2',),\n",
      " 'vect__ngram_range': ((1, 2), (1, 3))}\n",
      "Fitting 5 folds for each of 6 candidates, totalling 30 fits\n",
      "done in 68.993s\n",
      "\n",
      "Best score: 0.777\n",
      "Best parameters set:\n",
      "\tlog__C: 1.0\n",
      "\tlog__penalty: 'l2'\n",
      "\tvect__ngram_range: (1, 2)\n"
     ]
    }
   ],
   "source": [
    "pipeline_log = Pipeline([\n",
    "    ('vect', CountVectorizer()),\n",
    "    ('tfidf', TfidfTransformer()),\n",
    "    ('log', LogisticRegression()),\n",
    "])\n",
    "emote_cut = emote.drop(emote.index[50000:1280000])\n",
    "X_train, X_test, y_train, y_test = train_test_split((emote_cut.text + emote_cut.user), emote_cut.emotion, test_size=0.1, random_state=37)\n",
    "\n",
    "grid_search_log = GridSearchCV(pipeline_log, parameters_log, n_jobs=-1, verbose=1)\n",
    "\n",
    "print(\"Performing grid search...\")\n",
    "print(\"pipeline:\", [name for name, _ in pipeline_log.steps])\n",
    "print(\"parameters:\")\n",
    "pprint(parameters_log)\n",
    "t0 = time()\n",
    "grid_search_log.fit(emote_cut.text, emote_cut.emotion)\n",
    "print(\"done in %0.3fs\" % (time() - t0))\n",
    "print()\n",
    "\n",
    "print(\"Best score: %0.3f\" % grid_search_log.best_score_)\n",
    "print(\"Best parameters set:\")\n",
    "best_parameters = grid_search_log.best_estimator_.get_params()\n",
    "for param_name in sorted(parameters_log.keys()):\n",
    "    print(\"\\t%s: %r\" % (param_name, best_parameters[param_name]))"
   ]
  },
  {
   "cell_type": "markdown",
   "id": "cathedral-admission",
   "metadata": {},
   "source": [
    "We achieved a prediction score of 77.7% with 50 000 observations using logistic regression on unprocessed data. We observe that the preprocess is actually hurting our prediction accuracy."
   ]
  },
  {
   "cell_type": "markdown",
   "id": "handled-mouse",
   "metadata": {},
   "source": [
    "##### In this case, we fitted the same models once without any kind of preprocess and a second time using various preprocess methods. Selecting each of these methods separately (not shown here) guided us in the same direction. We found no prepocess techniques worth adding in the aim of better prediction accuracy for this dataset."
   ]
  },
  {
   "cell_type": "markdown",
   "id": "fundamental-arnold",
   "metadata": {},
   "source": [
    " "
   ]
  },
  {
   "cell_type": "markdown",
   "id": "inclusive-passenger",
   "metadata": {},
   "source": [
    "## Support Vector Machine (SVM)"
   ]
  },
  {
   "cell_type": "markdown",
   "id": "linear-failure",
   "metadata": {},
   "source": [
    "One of the most efficient prediction tool we saw in class was Support Vector Machine. Here we fit it trying different set of tuning parameters.\n",
    "First let's define a pipeline which includes the tokenizer, the term weighting scheme and our SVM model."
   ]
  },
  {
   "cell_type": "code",
   "execution_count": 4,
   "id": "lasting-nevada",
   "metadata": {},
   "outputs": [],
   "source": [
    "pipeline_svm = Pipeline([\n",
    "    ('vect', CountVectorizer()),\n",
    "    ('tfidf', TfidfTransformer()),\n",
    "    ('svm', LinearSVC()),\n",
    "])"
   ]
  },
  {
   "cell_type": "markdown",
   "id": "noble-minutes",
   "metadata": {},
   "source": [
    "Then, we make a small dictionnary containing all the parameters we want to test during our Cross-Validation. (We have already fitted dozens of models with even larger sets. In order not to make it run several hours, we've decided to crop this parameter set to its few main components)."
   ]
  },
  {
   "cell_type": "code",
   "execution_count": 7,
   "id": "christian-costa",
   "metadata": {},
   "outputs": [],
   "source": [
    "parameters_svm = {\n",
    "    # 'vect__max_df': (0.4, 0.5),\n",
    "    # 'vect__max_features': (None, 50000, 200000, 400000),\n",
    "    'vect__ngram_range': ((1, 3),),\n",
    "    #'svm__penalty': ('l2', 'elasticnet'),\n",
    "    # 'svm__loss': ('squared_hinge',),\n",
    "    'svm__C': (0.8,),\n",
    "}"
   ]
  },
  {
   "cell_type": "markdown",
   "id": "found-daughter",
   "metadata": {},
   "source": [
    "Then comes the Cross-Validation part. Here, all possible combination of parameters are tested on our training data in the aim of finding the parameter set that yields the best possible prediction score on various K-Folds. Here is the output for 320 000 observations :"
   ]
  },
  {
   "cell_type": "code",
   "execution_count": 50,
   "id": "altered-pregnancy",
   "metadata": {},
   "outputs": [
    {
     "name": "stdout",
     "output_type": "stream",
     "text": [
      "Performing grid search...\n",
      "pipeline: ['vect', 'tfidf', 'svm']\n",
      "parameters:\n",
      "{'svm__C': (0.7,),\n",
      " 'svm__penalty': ('l2',),\n",
      " 'vect__max_features': (None, 50000, 200000, 400000),\n",
      " 'vect__ngram_range': ((1, 3),)}\n",
      "Fitting 5 folds for each of 4 candidates, totalling 20 fits\n",
      "done in 875.074s\n",
      "\n",
      "Best score: 0.815\n",
      "Best parameters set:\n",
      "\tsvm__C: 0.7\n",
      "\tsvm__penalty: 'l2'\n",
      "\tvect__max_features: None\n",
      "\tvect__ngram_range: (1, 3)\n"
     ]
    }
   ],
   "source": [
    "'''emote_cut = emote.drop(emote.index[3200000:1280000])\n",
    "X_train, X_test, y_train, y_test = train_test_split((emote_cut.text + emote_cut.user), emote_cut.emotion, test_size=0.1, random_state=37)'''\n",
    "\n",
    "grid_search_svm = GridSearchCV(pipeline_svm, parameters_svm, verbose=1)\n",
    "\n",
    "print(\"Performing grid search...\")\n",
    "print(\"pipeline:\", [name for name, _ in pipeline_svm.steps])\n",
    "print(\"parameters:\")\n",
    "pprint(parameters_svm)\n",
    "t0 = time()\n",
    "grid_search_svm.fit(X_train, y_train)\n",
    "print(\"done in %0.3fs\" % (time() - t0))\n",
    "print()\n",
    "\n",
    "print(\"Best score: %0.3f\" % grid_search_svm.best_score_)\n",
    "print(\"Best parameters set:\")\n",
    "best_parameters = grid_search_svm.best_estimator_.get_params()\n",
    "for param_name in sorted(parameters_svm.keys()):\n",
    "    print(\"\\t%s: %r\" % (param_name, best_parameters[param_name]))"
   ]
  },
  {
   "cell_type": "code",
   "execution_count": 137,
   "id": "american-destiny",
   "metadata": {},
   "outputs": [],
   "source": [
    "parameters_svm = {\n",
    "    # 'vect__max_df': (0.4, 0.5),\n",
    "    # 'vect__max_features': (None, 50000, 200000, 400000),\n",
    "    'vect__ngram_range': ((1, 3),),\n",
    "    #'svm__penalty': ('l2', 'elasticnet'),\n",
    "    # 'svm__loss': ('squared_hinge',),\n",
    "    'svm__C': (0.8,),\n",
    "}"
   ]
  },
  {
   "cell_type": "code",
   "execution_count": 12,
   "id": "selective-rehabilitation",
   "metadata": {},
   "outputs": [
    {
     "name": "stdout",
     "output_type": "stream",
     "text": [
      "Performing grid search...\n",
      "pipeline: ['vect', 'tfidf', 'svm']\n",
      "parameters:\n",
      "{'svm__C': (0.8,), 'vect__ngram_range': ((1, 3),)}\n",
      "Fitting 5 folds for each of 1 candidates, totalling 5 fits\n",
      "done in 1241.328s\n",
      "\n",
      "Best score: 0.875\n",
      "Best parameters set:\n",
      "\tsvm__C: 0.8\n",
      "\tvect__ngram_range: (1, 3)\n"
     ]
    }
   ],
   "source": [
    "grid_search_svm = GridSearchCV(pipeline_svm, parameters_svm, verbose=1)\n",
    "\n",
    "print(\"Performing grid search...\")\n",
    "print(\"pipeline:\", [name for name, _ in pipeline_svm.steps])\n",
    "print(\"parameters:\")\n",
    "pprint(parameters_svm)\n",
    "t0 = time()\n",
    "grid_search_svm.fit((emote.text + emote.user + emote.date), emote.emotion)\n",
    "print(\"done in %0.3fs\" % (time() - t0))\n",
    "print()\n",
    "\n",
    "print(\"Best score: %0.3f\" % grid_search_svm.best_score_)\n",
    "print(\"Best parameters set:\")\n",
    "best_parameters = grid_search_svm.best_estimator_.get_params()\n",
    "for param_name in sorted(parameters_svm.keys()):\n",
    "    print(\"\\t%s: %r\" % (param_name, best_parameters[param_name]))"
   ]
  },
  {
   "cell_type": "markdown",
   "id": "adult-conservative",
   "metadata": {},
   "source": [
    "And here the one for computing on 640 000 observations"
   ]
  },
  {
   "cell_type": "code",
   "execution_count": 58,
   "id": "economic-insert",
   "metadata": {},
   "outputs": [
    {
     "name": "stdout",
     "output_type": "stream",
     "text": [
      "Performing grid search...\n",
      "pipeline: ['vect', 'tfidf', 'svm']\n",
      "parameters:\n",
      "{'svm__C': (0.6, 0.7, 0.8), 'vect__ngram_range': ((1, 2), (1, 3))}\n",
      "Fitting 5 folds for each of 6 candidates, totalling 30 fits\n",
      "done in 3555.632s\n",
      "\n",
      "Best score: 0.830\n",
      "Best parameters set:\n",
      "\tsvm__C: 0.8\n",
      "\tvect__ngram_range: (1, 3)\n"
     ]
    }
   ],
   "source": [
    "'''emote_cut = emote.drop(emote.index[6400000:1280000])\n",
    "X_train, X_test, y_train, y_test = train_test_split((emote_cut.text + emote_cut.user), emote_cut.emotion, test_size=0.1, random_state=37)'''\n",
    "\n",
    "grid_search_svm = GridSearchCV(pipeline_svm, parameters_svm, verbose=1)\n",
    "\n",
    "print(\"Performing grid search...\")\n",
    "print(\"pipeline:\", [name for name, _ in pipeline_svm.steps])\n",
    "print(\"parameters:\")\n",
    "pprint(parameters_svm)\n",
    "t0 = time()\n",
    "grid_search_svm.fit(X_train, y_train)\n",
    "print(\"done in %0.3fs\" % (time() - t0))\n",
    "print()\n",
    "\n",
    "print(\"Best score: %0.3f\" % grid_search_svm.best_score_)\n",
    "print(\"Best parameters set:\")\n",
    "best_parameters = grid_search_svm.best_estimator_.get_params()\n",
    "for param_name in sorted(parameters_svm.keys()):\n",
    "    print(\"\\t%s: %r\" % (param_name, best_parameters[param_name]))"
   ]
  },
  {
   "cell_type": "markdown",
   "id": "distinguished-locator",
   "metadata": {},
   "source": [
    "##### Using half of our training dataset to fit some Cross validation models, we obtain a score of 83% on this SVM model with the above parameters. This is one of the best predictions we were able to make. "
   ]
  },
  {
   "cell_type": "markdown",
   "id": "congressional-breeding",
   "metadata": {},
   "source": [
    " "
   ]
  },
  {
   "cell_type": "markdown",
   "id": "alternate-belarus",
   "metadata": {},
   "source": [
    "In order to compare with the following methods, we fitted this additional SVM on 100 000 observations :"
   ]
  },
  {
   "cell_type": "code",
   "execution_count": 50,
   "id": "economic-while",
   "metadata": {},
   "outputs": [
    {
     "name": "stdout",
     "output_type": "stream",
     "text": [
      "Performing grid search...\n",
      "pipeline: ['vect', 'tfidf', 'svm']\n",
      "parameters:\n",
      "{'svm__C': (0.6, 0.7, 0.8), 'vect__ngram_range': ((1, 2), (1, 3))}\n",
      "Fitting 5 folds for each of 6 candidates, totalling 30 fits\n",
      "done in 238.555s\n",
      "\n",
      "Best score: 0.794\n",
      "Best parameters set:\n",
      "\tsvm__C: 0.6\n",
      "\tvect__ngram_range: (1, 2)\n"
     ]
    }
   ],
   "source": [
    "emote_cut = emote.drop(emote.index[100000:1280000])\n",
    "X_train, X_test, y_train, y_test = train_test_split((emote_cut.text + emote_cut.user), emote_cut.emotion, test_size=0.1, random_state=37)\n",
    "\n",
    "grid_search_svm = GridSearchCV(pipeline_svm, parameters_svm, verbose=1)\n",
    "\n",
    "print(\"Performing grid search...\")\n",
    "print(\"pipeline:\", [name for name, _ in pipeline_svm.steps])\n",
    "print(\"parameters:\")\n",
    "pprint(parameters_svm)\n",
    "t0 = time()\n",
    "grid_search_svm.fit(X_train, y_train)\n",
    "print(\"done in %0.3fs\" % (time() - t0))\n",
    "print()\n",
    "\n",
    "print(\"Best score: %0.3f\" % grid_search_svm.best_score_)\n",
    "print(\"Best parameters set:\")\n",
    "best_parameters = grid_search_svm.best_estimator_.get_params()\n",
    "for param_name in sorted(parameters_svm.keys()):\n",
    "    print(\"\\t%s: %r\" % (param_name, best_parameters[param_name]))"
   ]
  },
  {
   "cell_type": "markdown",
   "id": "indonesian-nightlife",
   "metadata": {},
   "source": [
    "We achieve a score of 79.4% using less than 10% of our training data. This score will be compared with next models' ones."
   ]
  },
  {
   "cell_type": "markdown",
   "id": "interim-niagara",
   "metadata": {},
   "source": [
    " "
   ]
  },
  {
   "cell_type": "markdown",
   "id": "documented-culture",
   "metadata": {},
   "source": [
    "## Logistic Classification"
   ]
  },
  {
   "cell_type": "markdown",
   "id": "judicial-watch",
   "metadata": {},
   "source": [
    "Another strong classifier is the logistic regression. Here we do the same steps as for the SVM part in order to compare final prediction scores."
   ]
  },
  {
   "cell_type": "code",
   "execution_count": 42,
   "id": "falling-sussex",
   "metadata": {},
   "outputs": [],
   "source": [
    "pipeline_log = Pipeline([\n",
    "    ('vect', CountVectorizer()),\n",
    "    ('tfidf', TfidfTransformer()),\n",
    "    ('log', LogisticRegression()),\n",
    "])"
   ]
  },
  {
   "cell_type": "code",
   "execution_count": 43,
   "id": "wicked-conjunction",
   "metadata": {},
   "outputs": [],
   "source": [
    "parameters_log = {\n",
    "    # 'vect__max_df': (0.5,),\n",
    "    'vect__ngram_range': ((1, 2), (1, 3)),\n",
    "    'log__C': (0.5, 0.75, 1.0),\n",
    "    'log__penalty': ('l2',),\n",
    "}"
   ]
  },
  {
   "cell_type": "code",
   "execution_count": 44,
   "id": "gorgeous-necessity",
   "metadata": {},
   "outputs": [
    {
     "name": "stdout",
     "output_type": "stream",
     "text": [
      "Performing grid search...\n",
      "pipeline: ['vect', 'tfidf', 'log']\n",
      "parameters:\n",
      "{'log__C': (0.5, 0.75, 1.0),\n",
      " 'log__penalty': ('l2',),\n",
      " 'vect__ngram_range': ((1, 2), (1, 3))}\n",
      "Fitting 5 folds for each of 6 candidates, totalling 30 fits\n",
      "done in 292.206s\n",
      "\n",
      "Best score: 0.786\n",
      "Best parameters set:\n",
      "\tlog__C: 1.0\n",
      "\tlog__penalty: 'l2'\n",
      "\tvect__ngram_range: (1, 2)\n"
     ]
    },
    {
     "name": "stderr",
     "output_type": "stream",
     "text": [
      "C:\\Users\\rened\\Anaconda3\\lib\\site-packages\\sklearn\\linear_model\\_logistic.py:765: ConvergenceWarning: lbfgs failed to converge (status=1):\n",
      "STOP: TOTAL NO. of ITERATIONS REACHED LIMIT.\n",
      "\n",
      "Increase the number of iterations (max_iter) or scale the data as shown in:\n",
      "    https://scikit-learn.org/stable/modules/preprocessing.html\n",
      "Please also refer to the documentation for alternative solver options:\n",
      "    https://scikit-learn.org/stable/modules/linear_model.html#logistic-regression\n",
      "  extra_warning_msg=_LOGISTIC_SOLVER_CONVERGENCE_MSG)\n"
     ]
    }
   ],
   "source": [
    "emote_cut = emote.drop(emote.index[100000:1280000])\n",
    "X_train, X_test, y_train, y_test = train_test_split((emote_cut.text + emote_cut.user), emote_cut.emotion, test_size=0.1, random_state=37)\n",
    "\n",
    "grid_search_log = GridSearchCV(pipeline_log, parameters_log, n_jobs=-1, verbose=1)\n",
    "\n",
    "print(\"Performing grid search...\")\n",
    "print(\"pipeline:\", [name for name, _ in pipeline_log.steps])\n",
    "print(\"parameters:\")\n",
    "pprint(parameters_log)\n",
    "t0 = time()\n",
    "grid_search_log.fit(X_train, y_train)\n",
    "print(\"done in %0.3fs\" % (time() - t0))\n",
    "print()\n",
    "\n",
    "print(\"Best score: %0.3f\" % grid_search_log.best_score_)\n",
    "print(\"Best parameters set:\")\n",
    "best_parameters = grid_search_log.best_estimator_.get_params()\n",
    "for param_name in sorted(parameters_log.keys()):\n",
    "    print(\"\\t%s: %r\" % (param_name, best_parameters[param_name]))"
   ]
  },
  {
   "cell_type": "markdown",
   "id": "human-liechtenstein",
   "metadata": {},
   "source": [
    "with date test........"
   ]
  },
  {
   "cell_type": "code",
   "execution_count": 136,
   "id": "legendary-europe",
   "metadata": {},
   "outputs": [
    {
     "name": "stdout",
     "output_type": "stream",
     "text": [
      "Performing grid search...\n",
      "pipeline: ['vect', 'tfidf', 'log']\n",
      "parameters:\n",
      "{'log__C': (0.5, 0.75, 1.0),\n",
      " 'log__penalty': ('l2',),\n",
      " 'vect__ngram_range': ((1, 2), (1, 3))}\n",
      "Fitting 5 folds for each of 6 candidates, totalling 30 fits\n",
      "done in 282.487s\n",
      "\n",
      "Best score: 0.817\n",
      "Best parameters set:\n",
      "\tlog__C: 1.0\n",
      "\tlog__penalty: 'l2'\n",
      "\tvect__ngram_range: (1, 2)\n"
     ]
    }
   ],
   "source": [
    "emote_cut = emote.drop(emote.index[100000:1280000])\n",
    "X_train, X_test, y_train, y_test = train_test_split((emote_cut.text + emote_cut.user+emote_cut.date), emote_cut.emotion, test_size=0.1, random_state=37)\n",
    "\n",
    "grid_search_log = GridSearchCV(pipeline_log, parameters_log, n_jobs=-1, verbose=1)\n",
    "\n",
    "print(\"Performing grid search...\")\n",
    "print(\"pipeline:\", [name for name, _ in pipeline_log.steps])\n",
    "print(\"parameters:\")\n",
    "pprint(parameters_log)\n",
    "t0 = time()\n",
    "grid_search_log.fit(X_train, y_train)\n",
    "print(\"done in %0.3fs\" % (time() - t0))\n",
    "print()\n",
    "\n",
    "print(\"Best score: %0.3f\" % grid_search_log.best_score_)\n",
    "print(\"Best parameters set:\")\n",
    "best_parameters = grid_search_log.best_estimator_.get_params()\n",
    "for param_name in sorted(parameters_log.keys()):\n",
    "    print(\"\\t%s: %r\" % (param_name, best_parameters[param_name]))"
   ]
  },
  {
   "cell_type": "markdown",
   "id": "concerned-smile",
   "metadata": {},
   "source": [
    "Using the logistic regression model, we achieve a score of 78.6%, almost a 1% less than SVM on the sample size. Logistic classification is a quite accurate method."
   ]
  },
  {
   "cell_type": "markdown",
   "id": "certain-certification",
   "metadata": {},
   "source": [
    " "
   ]
  },
  {
   "cell_type": "markdown",
   "id": "alone-apartment",
   "metadata": {},
   "source": [
    "## Multinomial Naive Bayes (MNB)"
   ]
  },
  {
   "cell_type": "markdown",
   "id": "regular-huntington",
   "metadata": {},
   "source": [
    "And a third very efficient classifier could be the Multinomial Naive Bayes one. Again, we apply the same methodology as before in order to find the best set of parameters for our model."
   ]
  },
  {
   "cell_type": "code",
   "execution_count": 24,
   "id": "renewable-process",
   "metadata": {},
   "outputs": [],
   "source": [
    "pipeline_mnb = Pipeline([\n",
    "    ('vect', CountVectorizer()),\n",
    "    ('tfidf', TfidfTransformer()),\n",
    "    ('mnb', MultinomialNB()),\n",
    "])"
   ]
  },
  {
   "cell_type": "code",
   "execution_count": 38,
   "id": "grateful-balance",
   "metadata": {},
   "outputs": [],
   "source": [
    "parameters_mnb = {\n",
    "    'vect__max_df': (0.5,),\n",
    "    'vect__ngram_range': ((1, 2), (1, 3)),  \n",
    "    'mnb__alpha': (0.75, 1),\n",
    "    # 'mnb__penalty': ('l2','elasticnet'),\n",
    "    # 'mnb__max_iter': (10, 50, 80),\n",
    "}"
   ]
  },
  {
   "cell_type": "markdown",
   "id": "favorite-performance",
   "metadata": {},
   "source": [
    "Here, we are training on 100 000 observations."
   ]
  },
  {
   "cell_type": "code",
   "execution_count": 39,
   "id": "lonely-anime",
   "metadata": {},
   "outputs": [
    {
     "name": "stdout",
     "output_type": "stream",
     "text": [
      "Performing grid search...\n",
      "pipeline: ['vect', 'tfidf', 'mnb']\n",
      "parameters:\n",
      "{'mnb__alpha': (0.75, 1),\n",
      " 'vect__max_df': (0.5,),\n",
      " 'vect__ngram_range': ((1, 2), (1, 3))}\n",
      "Fitting 5 folds for each of 4 candidates, totalling 20 fits\n",
      "done in 50.199s\n",
      "\n",
      "Best score: 0.778\n",
      "Best parameters set:\n",
      "\tmnb__alpha: 1\n",
      "\tvect__max_df: 0.5\n",
      "\tvect__ngram_range: (1, 2)\n"
     ]
    }
   ],
   "source": [
    "emote_cut = emote.drop(emote.index[100000:1280000])\n",
    "X_train, X_test, y_train, y_test = train_test_split((emote_cut.text + emote_cut.user), emote_cut.emotion, test_size=0.1, random_state=37)\n",
    "\n",
    "grid_search_mnb = GridSearchCV(pipeline_mnb, parameters_mnb, n_jobs=-1, verbose=1)\n",
    "\n",
    "print(\"Performing grid search...\")\n",
    "print(\"pipeline:\", [name for name, _ in pipeline_mnb.steps])\n",
    "print(\"parameters:\")\n",
    "pprint(parameters_mnb)\n",
    "t0 = time()\n",
    "grid_search_mnb.fit(X_train, y_train)\n",
    "print(\"done in %0.3fs\" % (time() - t0))\n",
    "print()\n",
    "\n",
    "print(\"Best score: %0.3f\" % grid_search_mnb.best_score_)\n",
    "print(\"Best parameters set:\")\n",
    "best_parameters = grid_search_mnb.best_estimator_.get_params()\n",
    "for param_name in sorted(parameters_mnb.keys()):\n",
    "    print(\"\\t%s: %r\" % (param_name, best_parameters[param_name]))"
   ]
  },
  {
   "cell_type": "markdown",
   "id": "armed-decimal",
   "metadata": {},
   "source": [
    "Using only 100 000 observations, we were able here to achieve a score with 77.8% prediction using MNB, a bit less than using logistic regression and even lesser than SVM. These examples were meant to show the difference between each models. We are aware there is some arbitrary choices here in the choice of the parameters for the several Cross-Validation. However, we chose these parameters based on many attempts of finding the best accuracy for each type of model. Overall, SVM performed better than the 2 other shown models here."
   ]
  },
  {
   "cell_type": "markdown",
   "id": "loose-reply",
   "metadata": {},
   "source": [
    " "
   ]
  },
  {
   "cell_type": "markdown",
   "id": "published-privilege",
   "metadata": {},
   "source": [
    "## Long Short Term Memory (LSTM) Neural Network"
   ]
  },
  {
   "cell_type": "markdown",
   "id": "addressed-point",
   "metadata": {},
   "source": [
    "This time, we try to apply a Neural Network method. After trying several RNN and CNN, we came across this method that yielded better accuracy results for us. To be in concordance with the chosen method, we vectorize our text sample using the Tokenizer function from 'Keras' package."
   ]
  },
  {
   "cell_type": "code",
   "execution_count": 87,
   "id": "confirmed-technology",
   "metadata": {},
   "outputs": [],
   "source": [
    "emote_cut = emote.drop(emote.index[320000:1280000])\n",
    "X_train, X_test, y_train, y_test = train_test_split((emote.text + emote.user), emote.emotion, test_size=0.2, random_state=37)\n",
    "\n",
    "max_features = 50000\n",
    "nb_classes = 2\n",
    "maxlen = 100\n",
    "tokenizer = Tokenizer(num_words=max_features)\n",
    "tokenizer.fit_on_texts(X_train)\n",
    "sequences_train = tokenizer.texts_to_sequences(X_train)\n",
    "sequences_test = tokenizer.texts_to_sequences(X_test)\n",
    "\n",
    "X_train = sequence.pad_sequences(sequences_train, maxlen=maxlen)\n",
    "X_test = sequence.pad_sequences(sequences_test, maxlen=maxlen)\n",
    "Y_train = np_utils.to_categorical(y_train, nb_classes)\n",
    "Y_test = np_utils.to_categorical(y_test, nb_classes)"
   ]
  },
  {
   "cell_type": "code",
   "execution_count": 88,
   "id": "improved-charlotte",
   "metadata": {},
   "outputs": [
    {
     "name": "stdout",
     "output_type": "stream",
     "text": [
      "Epoch 1/2\n",
      "8000/8000 [==============================] - 1951s 244ms/step - loss: 0.4105 - accuracy: 0.8113 - val_loss: 0.3795 - val_accuracy: 0.8288\n",
      "Epoch 2/2\n",
      "8000/8000 [==============================] - 2012s 252ms/step - loss: 0.3494 - accuracy: 0.8449 - val_loss: 0.3733 - val_accuracy: 0.8336\n",
      "2000/2000 [==============================] - 116s 58ms/step - loss: 0.3733 - accuracy: 0.8336\n",
      "Test score: 0.37334904074668884\n",
      "Test accuracy: 0.8335898518562317\n"
     ]
    }
   ],
   "source": [
    "batch_size = 128\n",
    "model = Sequential()\n",
    "model.add(Embedding(max_features, 128))\n",
    "model.add(LSTM(128, dropout=0.2)) \n",
    "model.add(Dense(nb_classes))\n",
    "model.add(Activation('softmax'))\n",
    "\n",
    "model.compile(loss='binary_crossentropy',\n",
    "              optimizer='adam',\n",
    "              metrics=['accuracy'])\n",
    "\n",
    "model.fit(X_train, Y_train, batch_size=batch_size, epochs=2,\n",
    "          validation_data=(X_test, Y_test))\n",
    "score, acc = model.evaluate(X_test, Y_test,\n",
    "                            batch_size=batch_size)\n",
    "print('Test score:', score)\n",
    "print('Test accuracy:', acc)"
   ]
  },
  {
   "cell_type": "markdown",
   "id": "loose-murder",
   "metadata": {},
   "source": [
    "We implement an LSTM layer followed by a Dense one, ending up with a softmax activation as we're working on a binary outcome."
   ]
  },
  {
   "cell_type": "code",
   "execution_count": 37,
   "id": "provincial-cherry",
   "metadata": {},
   "outputs": [
    {
     "name": "stdout",
     "output_type": "stream",
     "text": [
      "Build model...\n",
      "Train...\n",
      "Epoch 1/3\n",
      "8000/8000 [==============================] - 665s 83ms/step - loss: 0.1807 - accuracy: 0.7862 - val_loss: 0.1699 - val_accuracy: 0.8058\n",
      "Epoch 2/3\n",
      "8000/8000 [==============================] - 664s 83ms/step - loss: 0.1516 - accuracy: 0.8295 - val_loss: 0.1667 - val_accuracy: 0.8099\n",
      "Epoch 3/3\n",
      "8000/8000 [==============================] - 712s 89ms/step - loss: 0.1353 - accuracy: 0.8509 - val_loss: 0.1721 - val_accuracy: 0.8092\n",
      "2000/2000 [==============================] - 44s 22ms/step - loss: 0.1721 - accuracy: 0.8092\n",
      "Test score: 0.17206811904907227\n",
      "Test accuracy: 0.8091718554496765\n",
      "Generating test predictions...\n",
      "WARNING:tensorflow:From <ipython-input-37-75d41c68389e>:22: Sequential.predict_classes (from tensorflow.python.keras.engine.sequential) is deprecated and will be removed after 2021-01-01.\n",
      "Instructions for updating:\n",
      "Please use instead:* `np.argmax(model.predict(x), axis=-1)`,   if your model does multi-class classification   (e.g. if it uses a `softmax` last-layer activation).* `(model.predict(x) > 0.5).astype(\"int32\")`,   if your model does binary classification   (e.g. if it uses a `sigmoid` last-layer activation).\n"
     ]
    }
   ],
   "source": [
    "batch_size = 32\n",
    "model = Sequential()\n",
    "model.add(Embedding(max_features, 128))\n",
    "model.add(LSTM(128, dropout=0.2)) \n",
    "model.add(Dense(nb_classes))\n",
    "model.add(Activation('softmax'))\n",
    "\n",
    "model.compile(loss='binary_crossentropy',\n",
    "              optimizer='adam',\n",
    "              metrics=['accuracy'])\n",
    "\n",
    "model.fit(X_train, Y_train, batch_size=batch_size, epochs=3,\n",
    "          validation_data=(X_test, Y_test))\n",
    "score, acc = model.evaluate(X_test, Y_test,\n",
    "                            batch_size=batch_size)\n",
    "print('Test score:', score)\n",
    "print('Test accuracy:', acc)"
   ]
  },
  {
   "cell_type": "markdown",
   "id": "beautiful-wilderness",
   "metadata": {},
   "source": [
    "This 80.92% prediction score reflects the accuracy taking 320 000 observations into fitting. Another one using the whole dataset went to 83% on kaggle."
   ]
  },
  {
   "cell_type": "markdown",
   "id": "important-action",
   "metadata": {},
   "source": [
    " "
   ]
  },
  {
   "cell_type": "markdown",
   "id": "bizarre-connection",
   "metadata": {},
   "source": [
    "# IV. Best Model Analysis & Kaggle Submission"
   ]
  },
  {
   "cell_type": "markdown",
   "id": "mechanical-insulation",
   "metadata": {},
   "source": [
    "Looking at all previous attempts, we ended up with Support Vector Machine as having the best predictive performance. The best pipeline is therefore constructed out of the Cross-Validated parameters."
   ]
  },
  {
   "cell_type": "code",
   "execution_count": 29,
   "id": "sonic-thickness",
   "metadata": {},
   "outputs": [],
   "source": [
    "pipeline_SVM_BEST = Pipeline([\n",
    "    ('vect', CountVectorizer(max_df = 0.5, ngram_range = (1, 3))),\n",
    "    ('tfidf', TfidfTransformer()),\n",
    "    ('clf', LinearSVC(C=0.8 , penalty = 'l2', loss = 'squared_hinge')),\n",
    "])"
   ]
  },
  {
   "cell_type": "markdown",
   "id": "comprehensive-paris",
   "metadata": {},
   "source": [
    "Thanks to this pipeline, we expect to have a prediction score of around 83.5%. Score that can fluctuate whether our model overfits or not our training sample. The following predictions are posted on Kaggle as our main results."
   ]
  },
  {
   "cell_type": "code",
   "execution_count": 30,
   "id": "fatal-sheffield",
   "metadata": {},
   "outputs": [
    {
     "data": {
      "text/plain": [
       "Pipeline(steps=[('vect', CountVectorizer(max_df=0.5, ngram_range=(1, 3))),\n",
       "                ('tfidf', TfidfTransformer()), ('clf', LinearSVC(C=0.8))])"
      ]
     },
     "execution_count": 30,
     "metadata": {},
     "output_type": "execute_result"
    }
   ],
   "source": [
    "pipeline_SVM_BEST.fit((emote.text + emote.user), emote.emotion)"
   ]
  },
  {
   "cell_type": "code",
   "execution_count": 31,
   "id": "swiss-collapse",
   "metadata": {},
   "outputs": [],
   "source": [
    "emote_test = pd.read_csv(\"MLUnige2021_test.csv\")"
   ]
  },
  {
   "cell_type": "code",
   "execution_count": 32,
   "id": "extensive-shirt",
   "metadata": {},
   "outputs": [],
   "source": [
    "predictions_SVM = pipeline_SVM_BEST.predict((emote_test.text + emote_test.user))"
   ]
  },
  {
   "cell_type": "code",
   "execution_count": 33,
   "id": "unlikely-bride",
   "metadata": {},
   "outputs": [],
   "source": [
    "output=pd.DataFrame(data={\"Id\":emote_test[\"Id\"],\"emotion\":predictions_SVM}) \n",
    "output.to_csv(path_or_buf=r\"C:\\Users\\rened\\Desktop\\____Master in Statistics\\__Machine Learning\\Project\\results_SVM_0.8.csv\", index=False)"
   ]
  },
  {
   "cell_type": "code",
   "execution_count": null,
   "id": "reported-enemy",
   "metadata": {},
   "outputs": [],
   "source": []
  },
  {
   "cell_type": "code",
   "execution_count": null,
   "id": "demonstrated-woman",
   "metadata": {},
   "outputs": [],
   "source": []
  },
  {
   "cell_type": "code",
   "execution_count": 90,
   "id": "hydraulic-shoulder",
   "metadata": {},
   "outputs": [],
   "source": [
    "sequences_testpred = tokenizer.texts_to_sequences(emote_test.text + emote_test.user)\n",
    "\n",
    "X_testpred = sequence.pad_sequences(sequences_testpred, maxlen=maxlen)"
   ]
  },
  {
   "cell_type": "code",
   "execution_count": 91,
   "id": "instrumental-custom",
   "metadata": {},
   "outputs": [],
   "source": [
    "predictions_NN = model.predict(X_testpred)"
   ]
  },
  {
   "cell_type": "code",
   "execution_count": 96,
   "id": "southwest-allah",
   "metadata": {},
   "outputs": [
    {
     "data": {
      "text/plain": [
       "array([[0.36382344, 0.63617647],\n",
       "       [0.00115188, 0.9988481 ],\n",
       "       [0.59901863, 0.4009813 ],\n",
       "       ...,\n",
       "       [0.62025476, 0.3797453 ],\n",
       "       [0.84361905, 0.15638092],\n",
       "       [0.96723783, 0.03276218]], dtype=float32)"
      ]
     },
     "execution_count": 96,
     "metadata": {},
     "output_type": "execute_result"
    }
   ],
   "source": [
    "predictions_NN"
   ]
  },
  {
   "cell_type": "code",
   "execution_count": 119,
   "id": "further-taiwan",
   "metadata": {},
   "outputs": [],
   "source": [
    "predictions_NN = np.c_[ predictions_NN, np.ones(320000) ]"
   ]
  },
  {
   "cell_type": "code",
   "execution_count": 126,
   "id": "narrow-appendix",
   "metadata": {},
   "outputs": [],
   "source": [
    "for i in range(319999):\n",
    "    if predictions_NN[i,:][0] >= predictions_NN[i,:][1]:\n",
    "        predictions_NN[i,:][2]=0\n",
    "    else:\n",
    "        predictions_NN[i,:][2]=1"
   ]
  },
  {
   "cell_type": "code",
   "execution_count": 134,
   "id": "cheap-passage",
   "metadata": {},
   "outputs": [
    {
     "data": {
      "text/plain": [
       "array([[0.36382344, 0.63617647, 1.        ],\n",
       "       [0.00115188, 0.99884808, 1.        ],\n",
       "       [0.59901863, 0.40098131, 0.        ],\n",
       "       ...,\n",
       "       [0.62025476, 0.3797453 , 0.        ],\n",
       "       [0.84361905, 0.15638092, 0.        ],\n",
       "       [0.96723783, 0.03276218, 1.        ]])"
      ]
     },
     "execution_count": 134,
     "metadata": {},
     "output_type": "execute_result"
    }
   ],
   "source": [
    "predictions_NN"
   ]
  },
  {
   "cell_type": "code",
   "execution_count": 133,
   "id": "tight-plane",
   "metadata": {},
   "outputs": [],
   "source": [
    "output=pd.DataFrame(data={\"Id\":emote_test[\"Id\"],\"emotion\":predictions_NN[:,2]}) \n",
    "output.to_csv(path_or_buf=r\"C:\\Users\\rened\\Desktop\\____Master in Statistics\\__Machine Learning\\Project\\results_NN_l8.csv\", index=False)"
   ]
  },
  {
   "cell_type": "markdown",
   "id": "cognitive-paste",
   "metadata": {},
   "source": [
    " "
   ]
  },
  {
   "cell_type": "markdown",
   "id": "eastern-marine",
   "metadata": {},
   "source": [
    "# V. Conclusion"
   ]
  },
  {
   "cell_type": "markdown",
   "id": "settled-narrow",
   "metadata": {},
   "source": [
    "This project represents our final class work in this Machine Learning course. We applied most of the methods and models seen in class in order to get the best predictive performance we could. Various data preprocessing methods were tried but none of them ended up increasing our predictive performance. A high number of models and optimization led us towards this final score of about 83% of sentiment prediction using the Support Vector Machine model. Many attempts at using RNN or CNN or alternative models such as BERT were unsuccessful in this case, with prediction scores a bit lower than our conventional model. "
   ]
  },
  {
   "cell_type": "markdown",
   "id": "military-volunteer",
   "metadata": {},
   "source": [
    " "
   ]
  },
  {
   "cell_type": "markdown",
   "id": "approximate-operations",
   "metadata": {},
   "source": [
    "# VI. Appendix"
   ]
  },
  {
   "cell_type": "markdown",
   "id": "antique-championship",
   "metadata": {},
   "source": [
    "# Marc w2vec"
   ]
  },
  {
   "cell_type": "code",
   "execution_count": null,
   "id": "neutral-consultation",
   "metadata": {},
   "outputs": [],
   "source": [
    "from gensim import downloader"
   ]
  },
  {
   "cell_type": "code",
   "execution_count": null,
   "id": "economic-editor",
   "metadata": {},
   "outputs": [],
   "source": [
    "w2v = gensim.downloader.load('glove-twitter-200')"
   ]
  },
  {
   "cell_type": "code",
   "execution_count": null,
   "id": "spanish-sheep",
   "metadata": {},
   "outputs": [],
   "source": [
    "def tweet_vectorizer(tweet):\n",
    "    tweet_split = tweet.split()\n",
    "    tweet_vec = np.zeros(200).astype(\"float32\")\n",
    "    err_count = 0\n",
    "    for j in range(len(tweet_split)):\n",
    "        try:\n",
    "            tweet_vec = tweet_vec + w2v[tweet_split[j]]\n",
    "        except:\n",
    "            err_count = err_count + 1\n",
    "            pass\n",
    "    if err_count == len(tweet_split):\n",
    "        pass\n",
    "    else:\n",
    "        tweet_vec = tweet_vec / (len(tweet_split) - err_count)\n",
    "    return(tweet_vec)"
   ]
  },
  {
   "cell_type": "code",
   "execution_count": null,
   "id": "individual-serbia",
   "metadata": {},
   "outputs": [],
   "source": [
    "X_w2v = np.zeros((1600000, 200))\n",
    "w2v_load = data[\"text_a\"].str.replace('[^\\w\\s]','')\n",
    "for i in range(len(w2v_load)):\n",
    "    X_w2v[i] = tweet_vectorizer(w2v_load[i])"
   ]
  },
  {
   "cell_type": "markdown",
   "id": "limiting-words",
   "metadata": {},
   "source": [
    "## BERT \n",
    "This is an attempt at implementing a sophisticated model trained by Google, BERT. \n",
    "Unfortunately, BERT model was computationaly too costly and so too difficult for us to implement looking at our time and computation power restrictions. Here's how it would have gone with more resources :"
   ]
  },
  {
   "cell_type": "markdown",
   "id": "behind-expert",
   "metadata": {},
   "source": [
    "## EDA and Preprocessing"
   ]
  },
  {
   "cell_type": "code",
   "execution_count": null,
   "id": "passing-reliance",
   "metadata": {},
   "outputs": [],
   "source": [
    "#pip install torch"
   ]
  },
  {
   "cell_type": "code",
   "execution_count": 56,
   "id": "meaning-church",
   "metadata": {},
   "outputs": [],
   "source": [
    "import torch \n",
    "from tqdm.notebook import tqdm"
   ]
  },
  {
   "cell_type": "code",
   "execution_count": 57,
   "id": "still-italian",
   "metadata": {},
   "outputs": [
    {
     "data": {
      "text/html": [
       "<div>\n",
       "<style scoped>\n",
       "    .dataframe tbody tr th:only-of-type {\n",
       "        vertical-align: middle;\n",
       "    }\n",
       "\n",
       "    .dataframe tbody tr th {\n",
       "        vertical-align: top;\n",
       "    }\n",
       "\n",
       "    .dataframe thead th {\n",
       "        text-align: right;\n",
       "    }\n",
       "</style>\n",
       "<table border=\"1\" class=\"dataframe\">\n",
       "  <thead>\n",
       "    <tr style=\"text-align: right;\">\n",
       "      <th></th>\n",
       "      <th>Id</th>\n",
       "      <th>emotion</th>\n",
       "      <th>tweet_id</th>\n",
       "      <th>date</th>\n",
       "      <th>lyx_query</th>\n",
       "      <th>user</th>\n",
       "      <th>text</th>\n",
       "    </tr>\n",
       "  </thead>\n",
       "  <tbody>\n",
       "    <tr>\n",
       "      <th>0</th>\n",
       "      <td>0</td>\n",
       "      <td>1</td>\n",
       "      <td>2063391019</td>\n",
       "      <td>Sun Jun 07 02:28:13 PDT 2009</td>\n",
       "      <td>NO_QUERY</td>\n",
       "      <td>BerryGurus</td>\n",
       "      <td>@BreeMe more time to play with you BlackBerry ...</td>\n",
       "    </tr>\n",
       "    <tr>\n",
       "      <th>1</th>\n",
       "      <td>1</td>\n",
       "      <td>0</td>\n",
       "      <td>2000525676</td>\n",
       "      <td>Mon Jun 01 22:18:53 PDT 2009</td>\n",
       "      <td>NO_QUERY</td>\n",
       "      <td>peterlanoie</td>\n",
       "      <td>Failed attempt at booting to a flash drive. Th...</td>\n",
       "    </tr>\n",
       "    <tr>\n",
       "      <th>2</th>\n",
       "      <td>2</td>\n",
       "      <td>0</td>\n",
       "      <td>2218180611</td>\n",
       "      <td>Wed Jun 17 22:01:38 PDT 2009</td>\n",
       "      <td>NO_QUERY</td>\n",
       "      <td>will_tooker</td>\n",
       "      <td>@msproductions Well ain't that the truth. Wher...</td>\n",
       "    </tr>\n",
       "    <tr>\n",
       "      <th>3</th>\n",
       "      <td>3</td>\n",
       "      <td>1</td>\n",
       "      <td>2190269101</td>\n",
       "      <td>Tue Jun 16 02:14:47 PDT 2009</td>\n",
       "      <td>NO_QUERY</td>\n",
       "      <td>sammutimer</td>\n",
       "      <td>@Meaghery cheers Craig - that was really sweet...</td>\n",
       "    </tr>\n",
       "    <tr>\n",
       "      <th>4</th>\n",
       "      <td>4</td>\n",
       "      <td>0</td>\n",
       "      <td>2069249490</td>\n",
       "      <td>Sun Jun 07 15:31:58 PDT 2009</td>\n",
       "      <td>NO_QUERY</td>\n",
       "      <td>ohaijustin</td>\n",
       "      <td>I was reading the tweets that got send to me w...</td>\n",
       "    </tr>\n",
       "  </tbody>\n",
       "</table>\n",
       "</div>"
      ],
      "text/plain": [
       "   Id  emotion    tweet_id                          date lyx_query  \\\n",
       "0   0        1  2063391019  Sun Jun 07 02:28:13 PDT 2009  NO_QUERY   \n",
       "1   1        0  2000525676  Mon Jun 01 22:18:53 PDT 2009  NO_QUERY   \n",
       "2   2        0  2218180611  Wed Jun 17 22:01:38 PDT 2009  NO_QUERY   \n",
       "3   3        1  2190269101  Tue Jun 16 02:14:47 PDT 2009  NO_QUERY   \n",
       "4   4        0  2069249490  Sun Jun 07 15:31:58 PDT 2009  NO_QUERY   \n",
       "\n",
       "          user                                               text  \n",
       "0   BerryGurus  @BreeMe more time to play with you BlackBerry ...  \n",
       "1  peterlanoie  Failed attempt at booting to a flash drive. Th...  \n",
       "2  will_tooker  @msproductions Well ain't that the truth. Wher...  \n",
       "3   sammutimer  @Meaghery cheers Craig - that was really sweet...  \n",
       "4   ohaijustin  I was reading the tweets that got send to me w...  "
      ]
     },
     "execution_count": 57,
     "metadata": {},
     "output_type": "execute_result"
    }
   ],
   "source": [
    "df = pd.read_csv(\"MLUnige2021_train.csv\")\n",
    "df.head()"
   ]
  },
  {
   "cell_type": "code",
   "execution_count": 58,
   "id": "american-pantyhose",
   "metadata": {},
   "outputs": [
    {
     "data": {
      "text/html": [
       "<div>\n",
       "<style scoped>\n",
       "    .dataframe tbody tr th:only-of-type {\n",
       "        vertical-align: middle;\n",
       "    }\n",
       "\n",
       "    .dataframe tbody tr th {\n",
       "        vertical-align: top;\n",
       "    }\n",
       "\n",
       "    .dataframe thead th {\n",
       "        text-align: right;\n",
       "    }\n",
       "</style>\n",
       "<table border=\"1\" class=\"dataframe\">\n",
       "  <thead>\n",
       "    <tr style=\"text-align: right;\">\n",
       "      <th></th>\n",
       "      <th>Id</th>\n",
       "      <th>emotion</th>\n",
       "      <th>tweet_id</th>\n",
       "      <th>date</th>\n",
       "      <th>lyx_query</th>\n",
       "      <th>user</th>\n",
       "      <th>text</th>\n",
       "      <th>id</th>\n",
       "    </tr>\n",
       "  </thead>\n",
       "  <tbody>\n",
       "    <tr>\n",
       "      <th>726359</th>\n",
       "      <td>726359</td>\n",
       "      <td>1</td>\n",
       "      <td>1548913184</td>\n",
       "      <td>Fri Apr 17 22:22:39 PDT 2009</td>\n",
       "      <td>NO_QUERY</td>\n",
       "      <td>justmikeyhrc</td>\n",
       "      <td>Sleep mode initiated...long day ahead. Hopeful...</td>\n",
       "      <td>1</td>\n",
       "    </tr>\n",
       "    <tr>\n",
       "      <th>22139</th>\n",
       "      <td>22139</td>\n",
       "      <td>1</td>\n",
       "      <td>1978778261</td>\n",
       "      <td>Sun May 31 00:26:11 PDT 2009</td>\n",
       "      <td>NO_QUERY</td>\n",
       "      <td>babybyndi</td>\n",
       "      <td>I love it when he wears Express clothes. Yumm,...</td>\n",
       "      <td>2</td>\n",
       "    </tr>\n",
       "    <tr>\n",
       "      <th>1047379</th>\n",
       "      <td>1047379</td>\n",
       "      <td>1</td>\n",
       "      <td>2179011339</td>\n",
       "      <td>Mon Jun 15 08:31:13 PDT 2009</td>\n",
       "      <td>NO_QUERY</td>\n",
       "      <td>eyulo</td>\n",
       "      <td>beautiful day in the city  it pays to live in ...</td>\n",
       "      <td>3</td>\n",
       "    </tr>\n",
       "    <tr>\n",
       "      <th>716599</th>\n",
       "      <td>716599</td>\n",
       "      <td>0</td>\n",
       "      <td>2186036482</td>\n",
       "      <td>Mon Jun 15 18:15:53 PDT 2009</td>\n",
       "      <td>NO_QUERY</td>\n",
       "      <td>Beejangles</td>\n",
       "      <td>Grocery shopping. Alone  no one ever comes wit...</td>\n",
       "      <td>4</td>\n",
       "    </tr>\n",
       "    <tr>\n",
       "      <th>332822</th>\n",
       "      <td>332822</td>\n",
       "      <td>0</td>\n",
       "      <td>2065610910</td>\n",
       "      <td>Sun Jun 07 08:56:54 PDT 2009</td>\n",
       "      <td>NO_QUERY</td>\n",
       "      <td>LucyMarie85</td>\n",
       "      <td>@AnnaSaccone i know but its just rude  ahhh we...</td>\n",
       "      <td>5</td>\n",
       "    </tr>\n",
       "  </tbody>\n",
       "</table>\n",
       "</div>"
      ],
      "text/plain": [
       "              Id  emotion    tweet_id                          date lyx_query  \\\n",
       "726359    726359        1  1548913184  Fri Apr 17 22:22:39 PDT 2009  NO_QUERY   \n",
       "22139      22139        1  1978778261  Sun May 31 00:26:11 PDT 2009  NO_QUERY   \n",
       "1047379  1047379        1  2179011339  Mon Jun 15 08:31:13 PDT 2009  NO_QUERY   \n",
       "716599    716599        0  2186036482  Mon Jun 15 18:15:53 PDT 2009  NO_QUERY   \n",
       "332822    332822        0  2065610910  Sun Jun 07 08:56:54 PDT 2009  NO_QUERY   \n",
       "\n",
       "                 user                                               text  id  \n",
       "726359   justmikeyhrc  Sleep mode initiated...long day ahead. Hopeful...   1  \n",
       "22139       babybyndi  I love it when he wears Express clothes. Yumm,...   2  \n",
       "1047379         eyulo  beautiful day in the city  it pays to live in ...   3  \n",
       "716599     Beejangles  Grocery shopping. Alone  no one ever comes wit...   4  \n",
       "332822    LucyMarie85  @AnnaSaccone i know but its just rude  ahhh we...   5  "
      ]
     },
     "execution_count": 58,
     "metadata": {},
     "output_type": "execute_result"
    }
   ],
   "source": [
    "df50 = df.sample(1000)\n",
    "df50['id'] = range(1, len(df50) + 1)\n",
    "df50.head()"
   ]
  },
  {
   "cell_type": "code",
   "execution_count": 59,
   "id": "dress-bishop",
   "metadata": {},
   "outputs": [
    {
     "data": {
      "text/html": [
       "<div>\n",
       "<style scoped>\n",
       "    .dataframe tbody tr th:only-of-type {\n",
       "        vertical-align: middle;\n",
       "    }\n",
       "\n",
       "    .dataframe tbody tr th {\n",
       "        vertical-align: top;\n",
       "    }\n",
       "\n",
       "    .dataframe thead th {\n",
       "        text-align: right;\n",
       "    }\n",
       "</style>\n",
       "<table border=\"1\" class=\"dataframe\">\n",
       "  <thead>\n",
       "    <tr style=\"text-align: right;\">\n",
       "      <th></th>\n",
       "      <th>emotion</th>\n",
       "      <th>text</th>\n",
       "    </tr>\n",
       "    <tr>\n",
       "      <th>id</th>\n",
       "      <th></th>\n",
       "      <th></th>\n",
       "    </tr>\n",
       "  </thead>\n",
       "  <tbody>\n",
       "    <tr>\n",
       "      <th>1</th>\n",
       "      <td>1</td>\n",
       "      <td>Sleep mode initiated...long day ahead. Hopeful...</td>\n",
       "    </tr>\n",
       "    <tr>\n",
       "      <th>2</th>\n",
       "      <td>1</td>\n",
       "      <td>I love it when he wears Express clothes. Yumm,...</td>\n",
       "    </tr>\n",
       "    <tr>\n",
       "      <th>3</th>\n",
       "      <td>1</td>\n",
       "      <td>beautiful day in the city  it pays to live in ...</td>\n",
       "    </tr>\n",
       "    <tr>\n",
       "      <th>4</th>\n",
       "      <td>0</td>\n",
       "      <td>Grocery shopping. Alone  no one ever comes wit...</td>\n",
       "    </tr>\n",
       "    <tr>\n",
       "      <th>5</th>\n",
       "      <td>0</td>\n",
       "      <td>@AnnaSaccone i know but its just rude  ahhh we...</td>\n",
       "    </tr>\n",
       "  </tbody>\n",
       "</table>\n",
       "</div>"
      ],
      "text/plain": [
       "    emotion                                               text\n",
       "id                                                            \n",
       "1         1  Sleep mode initiated...long day ahead. Hopeful...\n",
       "2         1  I love it when he wears Express clothes. Yumm,...\n",
       "3         1  beautiful day in the city  it pays to live in ...\n",
       "4         0  Grocery shopping. Alone  no one ever comes wit...\n",
       "5         0  @AnnaSaccone i know but its just rude  ahhh we..."
      ]
     },
     "execution_count": 59,
     "metadata": {},
     "output_type": "execute_result"
    }
   ],
   "source": [
    "df50.set_index('id', inplace=True)\n",
    "df50 = df50[['emotion', 'text']]\n",
    "df50.head()"
   ]
  },
  {
   "cell_type": "code",
   "execution_count": 60,
   "id": "interstate-complaint",
   "metadata": {},
   "outputs": [
    {
     "data": {
      "text/plain": [
       "'Sleep mode initiated...long day ahead. Hopefully new things to share tomorrow. Anyone want to see anything at the MK, let me know. '"
      ]
     },
     "execution_count": 60,
     "metadata": {},
     "output_type": "execute_result"
    }
   ],
   "source": [
    "df50.text.iloc[0]"
   ]
  },
  {
   "cell_type": "markdown",
   "id": "missing-radius",
   "metadata": {},
   "source": [
    "## Train test split"
   ]
  },
  {
   "cell_type": "code",
   "execution_count": 61,
   "id": "korean-pound",
   "metadata": {},
   "outputs": [],
   "source": [
    "X_train, X_test, y_train, y_test = train_test_split(\n",
    "    df50.index.values,\n",
    "    df50.emotion.values,\n",
    "    test_size = 0.15, random_state = 42) # no stratification since balanced"
   ]
  },
  {
   "cell_type": "code",
   "execution_count": 62,
   "id": "defined-enough",
   "metadata": {},
   "outputs": [],
   "source": [
    "# Create a column in df50 saying whether data is in training or test set.\n",
    "df50['data_type'] = ['not_set']*df50.shape[0]"
   ]
  },
  {
   "cell_type": "code",
   "execution_count": 63,
   "id": "million-recruitment",
   "metadata": {},
   "outputs": [],
   "source": [
    "df50.loc[X_train, 'data_type'] = 'train'\n",
    "df50.loc[X_test, 'data_type'] = 'test'"
   ]
  },
  {
   "cell_type": "code",
   "execution_count": 64,
   "id": "aquatic-bachelor",
   "metadata": {},
   "outputs": [
    {
     "data": {
      "text/html": [
       "<div>\n",
       "<style scoped>\n",
       "    .dataframe tbody tr th:only-of-type {\n",
       "        vertical-align: middle;\n",
       "    }\n",
       "\n",
       "    .dataframe tbody tr th {\n",
       "        vertical-align: top;\n",
       "    }\n",
       "\n",
       "    .dataframe thead th {\n",
       "        text-align: right;\n",
       "    }\n",
       "</style>\n",
       "<table border=\"1\" class=\"dataframe\">\n",
       "  <thead>\n",
       "    <tr style=\"text-align: right;\">\n",
       "      <th></th>\n",
       "      <th></th>\n",
       "      <th>text</th>\n",
       "    </tr>\n",
       "    <tr>\n",
       "      <th>emotion</th>\n",
       "      <th>data_type</th>\n",
       "      <th></th>\n",
       "    </tr>\n",
       "  </thead>\n",
       "  <tbody>\n",
       "    <tr>\n",
       "      <th rowspan=\"2\" valign=\"top\">0</th>\n",
       "      <th>test</th>\n",
       "      <td>75</td>\n",
       "    </tr>\n",
       "    <tr>\n",
       "      <th>train</th>\n",
       "      <td>434</td>\n",
       "    </tr>\n",
       "    <tr>\n",
       "      <th rowspan=\"2\" valign=\"top\">1</th>\n",
       "      <th>test</th>\n",
       "      <td>75</td>\n",
       "    </tr>\n",
       "    <tr>\n",
       "      <th>train</th>\n",
       "      <td>416</td>\n",
       "    </tr>\n",
       "  </tbody>\n",
       "</table>\n",
       "</div>"
      ],
      "text/plain": [
       "                   text\n",
       "emotion data_type      \n",
       "0       test         75\n",
       "        train       434\n",
       "1       test         75\n",
       "        train       416"
      ]
     },
     "execution_count": 64,
     "metadata": {},
     "output_type": "execute_result"
    }
   ],
   "source": [
    "df50.groupby(['emotion', 'data_type']).count()"
   ]
  },
  {
   "cell_type": "markdown",
   "id": "direct-serve",
   "metadata": {},
   "source": [
    "## Loading Tokenizer and Encoding the Data"
   ]
  },
  {
   "cell_type": "code",
   "execution_count": null,
   "id": "fabulous-negotiation",
   "metadata": {},
   "outputs": [],
   "source": [
    "#pip install transformers"
   ]
  },
  {
   "cell_type": "code",
   "execution_count": 67,
   "id": "unnecessary-willow",
   "metadata": {},
   "outputs": [],
   "source": [
    "from transformers import BertTokenizer\n",
    "from torch.utils.data import TensorDataset"
   ]
  },
  {
   "cell_type": "code",
   "execution_count": 68,
   "id": "eleven-internet",
   "metadata": {},
   "outputs": [
    {
     "data": {
      "application/vnd.jupyter.widget-view+json": {
       "model_id": "5d0ce97d06784e4ca2ee55a3ec5bba0b",
       "version_major": 2,
       "version_minor": 0
      },
      "text/plain": [
       "Downloading:   0%|          | 0.00/232k [00:00<?, ?B/s]"
      ]
     },
     "metadata": {},
     "output_type": "display_data"
    },
    {
     "data": {
      "application/vnd.jupyter.widget-view+json": {
       "model_id": "f7335b8d6afd4281949b3b2cef4bb4e2",
       "version_major": 2,
       "version_minor": 0
      },
      "text/plain": [
       "Downloading:   0%|          | 0.00/28.0 [00:00<?, ?B/s]"
      ]
     },
     "metadata": {},
     "output_type": "display_data"
    },
    {
     "data": {
      "application/vnd.jupyter.widget-view+json": {
       "model_id": "973bcab9c3bc45e19e37466f4d85c74d",
       "version_major": 2,
       "version_minor": 0
      },
      "text/plain": [
       "Downloading:   0%|          | 0.00/466k [00:00<?, ?B/s]"
      ]
     },
     "metadata": {},
     "output_type": "display_data"
    }
   ],
   "source": [
    "tokenizer = BertTokenizer.from_pretrained(\n",
    "    'bert-base-uncased',\n",
    "    do_lower_case = True\n",
    ") #uncased for all lowercase data"
   ]
  },
  {
   "cell_type": "code",
   "execution_count": 69,
   "id": "centered-world",
   "metadata": {},
   "outputs": [
    {
     "name": "stderr",
     "output_type": "stream",
     "text": [
      "Truncation was not explicitly activated but `max_length` is provided a specific value, please use `truncation=True` to explicitly truncate examples to max length. Defaulting to 'longest_first' truncation strategy. If you encode pairs of sequences (GLUE-style) with the tokenizer you can select this strategy more precisely by providing a specific strategy to `truncation`.\n",
      "C:\\Users\\rened\\Anaconda3\\lib\\site-packages\\transformers\\tokenization_utils_base.py:2110: FutureWarning: The `pad_to_max_length` argument is deprecated and will be removed in a future version, use `padding=True` or `padding='longest'` to pad to the longest sequence in the batch, or use `padding='max_length'` to pad to a max length. In this case, you can give a specific length with `max_length` (e.g. `max_length=45`) or leave max_length to None to pad to the maximal input size of the model (e.g. 512 for Bert).\n",
      "  FutureWarning,\n"
     ]
    }
   ],
   "source": [
    "encoded_data_train = tokenizer.batch_encode_plus(\n",
    "    df50[df50.data_type=='train'].text.values,\n",
    "    add_special_tokens=True,\n",
    "    return_attention_mask = True,\n",
    "    pad_to_max_length=True,\n",
    "    max_length=110,\n",
    "    return_tensors='pt'\n",
    ")\n",
    "\n",
    "encoded_data_test = tokenizer.batch_encode_plus(\n",
    "    df50[df50.data_type=='test'].text.values,\n",
    "    add_special_tokens=True,\n",
    "    return_attention_mask = True,\n",
    "    pad_to_max_length=True,\n",
    "    max_length=110,\n",
    "    return_tensors='pt'\n",
    ")\n",
    "\n",
    "# input for BERT to train\n",
    "input_ids_train = encoded_data_train['input_ids']\n",
    "attention_masks_train = encoded_data_train['attention_mask']\n",
    "emotion_train = torch.tensor(df50[df50.data_type=='train'].emotion.values)\n",
    "\n",
    "# input for BERT to test\n",
    "input_ids_test = encoded_data_test['input_ids']\n",
    "attention_masks_test = encoded_data_test['attention_mask']\n",
    "emotion_test = torch.tensor(df50[df50.data_type=='test'].emotion.values)"
   ]
  },
  {
   "cell_type": "code",
   "execution_count": 70,
   "id": "early-assignment",
   "metadata": {},
   "outputs": [],
   "source": [
    "# BERT's datatsets \n",
    "dataset_train = TensorDataset(input_ids_train, attention_masks_train, emotion_train)\n",
    "dataset_test = TensorDataset(input_ids_test, attention_masks_test, emotion_test)"
   ]
  },
  {
   "cell_type": "markdown",
   "id": "meaning-brother",
   "metadata": {},
   "source": [
    "## Setting up BERT pretrained model"
   ]
  },
  {
   "cell_type": "code",
   "execution_count": 71,
   "id": "protective-photographer",
   "metadata": {},
   "outputs": [],
   "source": [
    "from transformers import BertForSequenceClassification"
   ]
  },
  {
   "cell_type": "code",
   "execution_count": 72,
   "id": "surprising-egyptian",
   "metadata": {},
   "outputs": [
    {
     "data": {
      "application/vnd.jupyter.widget-view+json": {
       "model_id": "3a1b110b8a564d45bebdeaeb55cb71ea",
       "version_major": 2,
       "version_minor": 0
      },
      "text/plain": [
       "Downloading:   0%|          | 0.00/570 [00:00<?, ?B/s]"
      ]
     },
     "metadata": {},
     "output_type": "display_data"
    },
    {
     "data": {
      "application/vnd.jupyter.widget-view+json": {
       "model_id": "05caed7176fa4d3393cb90ec670a0075",
       "version_major": 2,
       "version_minor": 0
      },
      "text/plain": [
       "Downloading:   0%|          | 0.00/440M [00:00<?, ?B/s]"
      ]
     },
     "metadata": {},
     "output_type": "display_data"
    },
    {
     "name": "stderr",
     "output_type": "stream",
     "text": [
      "Some weights of the model checkpoint at bert-base-uncased were not used when initializing BertForSequenceClassification: ['cls.predictions.decoder.weight', 'cls.seq_relationship.weight', 'cls.predictions.transform.LayerNorm.bias', 'cls.predictions.transform.dense.bias', 'cls.predictions.bias', 'cls.predictions.transform.LayerNorm.weight', 'cls.seq_relationship.bias', 'cls.predictions.transform.dense.weight']\n",
      "- This IS expected if you are initializing BertForSequenceClassification from the checkpoint of a model trained on another task or with another architecture (e.g. initializing a BertForSequenceClassification model from a BertForPreTraining model).\n",
      "- This IS NOT expected if you are initializing BertForSequenceClassification from the checkpoint of a model that you expect to be exactly identical (initializing a BertForSequenceClassification model from a BertForSequenceClassification model).\n",
      "Some weights of BertForSequenceClassification were not initialized from the model checkpoint at bert-base-uncased and are newly initialized: ['classifier.bias', 'classifier.weight']\n",
      "You should probably TRAIN this model on a down-stream task to be able to use it for predictions and inference.\n"
     ]
    }
   ],
   "source": [
    "# each tweet is a sequence that will be classified positive or negative emotion\n",
    "model = BertForSequenceClassification.from_pretrained(\n",
    "    'bert-base-uncased',\n",
    "    num_labels = len(df50.emotion.unique()), #how many output it can have \n",
    "    output_attentions=False, \n",
    "    output_hidden_states=False #doesn't show output \n",
    ")"
   ]
  },
  {
   "cell_type": "markdown",
   "id": "cubic-affair",
   "metadata": {},
   "source": [
    "## Creating Data Loaders"
   ]
  },
  {
   "cell_type": "code",
   "execution_count": 73,
   "id": "atmospheric-worcester",
   "metadata": {},
   "outputs": [],
   "source": [
    "# Data loaders offer a nice way to iterate through our dataset in batches\n",
    "from torch.utils.data import DataLoader, RandomSampler, SequentialSampler"
   ]
  },
  {
   "cell_type": "code",
   "execution_count": 74,
   "id": "internal-pursuit",
   "metadata": {},
   "outputs": [],
   "source": [
    "batch_size = 4 #32 previously but we have limited memory on these machines\n",
    "\n",
    "dataloader_train = DataLoader(\n",
    "    dataset_train,\n",
    "    sampler=RandomSampler(dataset_train),\n",
    "    batch_size=batch_size\n",
    ")\n",
    "\n",
    "dataloader_test = DataLoader(\n",
    "    dataset_test,\n",
    "    sampler=RandomSampler(dataset_test),\n",
    "    batch_size=32 #back to 32 because we don't have many computations on the test set \n",
    ")\n",
    "#our dataset is now in a dataloader"
   ]
  },
  {
   "cell_type": "markdown",
   "id": "smoking-implement",
   "metadata": {},
   "source": [
    "## Setting up Optimizer and Scheduler"
   ]
  },
  {
   "cell_type": "code",
   "execution_count": 75,
   "id": "developing-lingerie",
   "metadata": {},
   "outputs": [],
   "source": [
    "from transformers import AdamW, get_linear_schedule_with_warmup"
   ]
  },
  {
   "cell_type": "code",
   "execution_count": 76,
   "id": "limited-fitting",
   "metadata": {},
   "outputs": [],
   "source": [
    "#optimizer (ADAM) is a way to optimize our weights \n",
    "optimizer = AdamW(\n",
    "    model.parameters(),\n",
    "    lr=1e-5, #recommended by the original paper to be between 2e-5 and 5e-5, can cross-validate this hyper-parameter\n",
    "    eps=1e-8\n",
    ")"
   ]
  },
  {
   "cell_type": "code",
   "execution_count": 77,
   "id": "ordinary-deposit",
   "metadata": {},
   "outputs": [],
   "source": [
    "epochs = 5 #can be cross validated\n",
    "\n",
    "#scheduler defines our learning rate and how it changes through each epoch \n",
    "\n",
    "scheduler = get_linear_schedule_with_warmup(\n",
    "    optimizer,\n",
    "    num_warmup_steps=0, #default\n",
    "    num_training_steps= len(dataloader_train)*epochs #defines how many times learning rate changes\n",
    ")"
   ]
  },
  {
   "cell_type": "markdown",
   "id": "separate-bradley",
   "metadata": {},
   "source": [
    "## Defining our Performance Metrics"
   ]
  },
  {
   "cell_type": "code",
   "execution_count": 78,
   "id": "descending-synthesis",
   "metadata": {},
   "outputs": [],
   "source": [
    "from sklearn.metrics import f1_score\n",
    "\n",
    "\n",
    "def f1_score_func(preds, emotion):\n",
    "    preds_flat = np.argmax(preds, axis=1).flatten()\n",
    "    emotion_flat = emotion.flatten()\n",
    "    return f1_score(emotion_flat, preds_flat, average = 'weighted') #can put average=macro\n",
    "\n",
    "def accuracy_per_class(preds, emotion):\n",
    "    emotion_dict_inverse = {1, 0}\n",
    "    \n",
    "    preds_flat = np.argmax(preds, axis=1).flatten()\n",
    "    emotion_flat = emotion.flatten()\n",
    "    \n",
    "    for emotion in np.unique(emotion_flat):\n",
    "        y_preds = preds_flat[emotion_flat==emotion]\n",
    "        y_true = emotion_flat[emotion_flat==emotion]\n",
    "        print(f'Class:{emotion_dict_inverse[emotion]}')\n",
    "        print(f'Accuracy: {len(y_preds[y_preds==label])}/{len(y_true)}\\n')"
   ]
  },
  {
   "cell_type": "markdown",
   "id": "smaller-malpractice",
   "metadata": {},
   "source": [
    "## Creating our Training Loop"
   ]
  },
  {
   "cell_type": "code",
   "execution_count": 79,
   "id": "inclusive-findings",
   "metadata": {},
   "outputs": [],
   "source": [
    "import random \n",
    "\n",
    "seed_test=42 #can try with seed 17 also (modify upper too)\n",
    "random.seed(seed_test)\n",
    "np.random.seed(seed_test)\n",
    "torch.manual_seed(seed_test)\n",
    "torch.cuda.manual_seed_all(seed_test) #useful if we use a GPU"
   ]
  },
  {
   "cell_type": "code",
   "execution_count": 80,
   "id": "sized-drilling",
   "metadata": {},
   "outputs": [
    {
     "name": "stdout",
     "output_type": "stream",
     "text": [
      "cpu\n"
     ]
    }
   ],
   "source": [
    "device = torch.device('cuda' if torch.cuda.is_available() else 'cpu')\n",
    "model.to(device)\n",
    "print(device) #best when cuda"
   ]
  },
  {
   "cell_type": "code",
   "execution_count": 81,
   "id": "alternative-effects",
   "metadata": {},
   "outputs": [],
   "source": [
    "def evaluate(dataloader_test):\n",
    "    \n",
    "    model.eval()\n",
    "    \n",
    "    loss_val_total = 0\n",
    "    predictions, true_vals = [], []\n",
    "    \n",
    "    for batch in tqdm(dataloader_test):\n",
    "        \n",
    "        batch = tuple(b.to(device) for b in batch)\n",
    "        \n",
    "        inputs = {'inputs_ids': batch[0],\n",
    "              'attention_mask': batch[1],\n",
    "                     'labels': batch[2]}\n",
    "        \n",
    "        with torch.no_grad():\n",
    "            outputs = model(**inputs)\n",
    "        \n",
    "        loss = outputs[0]\n",
    "        logits = outputs[1]\n",
    "        loss_val_total += loss.item()\n",
    "        \n",
    "        logits = logits.detach().cpu().numpy()\n",
    "        emotion_ids = inputs['labels'].cpu().numpy()\n",
    "        predictions.append(logits)\n",
    "        true_vals.append(emotion_ids)\n",
    "    \n",
    "    loss_val_avg = loss_val_total/len(dataloader_test)\n",
    "    \n",
    "    predictions = np.concatenate(predictions, axis=0)\n",
    "    true_vals = np.concatenate(true_vals, axis=0)\n",
    "    \n",
    "    return loss_val_avg, predictions, true_vals\n",
    "        "
   ]
  },
  {
   "cell_type": "code",
   "execution_count": null,
   "id": "inside-fluid",
   "metadata": {},
   "outputs": [],
   "source": [
    "for epoch in tqdm(range(1, epochs+1)):\n",
    "    \n",
    "    model.train()\n",
    "    \n",
    "    loss_train_total = 0\n",
    "    \n",
    "    progress_bar = tqdm(dataloader_train, \n",
    "                        desc='Epoch {:1d}'.format(epoch), \n",
    "                        leave=False, disable=False) #to see how many batched have been trained and how many remain\n",
    "    \n",
    "    for batch in progress_bar:\n",
    "        \n",
    "        model.zero_grad()\n",
    "        \n",
    "        batch = tuple(b.to(device) for b in batch)\n",
    "        \n",
    "        inputs = {\n",
    "             'input_ids': batch[0],\n",
    "             'attention_mask': batch[1],\n",
    "             'labels': batch[2]\n",
    "         }\n",
    "            \n",
    "        outputs = model(**inputs)\n",
    "         \n",
    "        loss = outputs[0]\n",
    "        loss_train_total += loss.item()\n",
    "        loss.backward()\n",
    "        \n",
    "        torch.nn.utils.clip_grad_norm(model.parameters(), 1.0)\n",
    "        \n",
    "        optimizer.step()\n",
    "        scheduler.step()\n",
    "        \n",
    "        progress_bar.set_postfix({'training loss': '{:.3f}'.format(loss.item()/len(batch))})\n",
    "    \n",
    "    torch.save(model.state_dict(), f'Models/BERT_ft_epoch{epoch}.model')\n",
    "    \n",
    "    tqdm.write('\\nEpoch {epoch}')\n",
    "    \n",
    "    loss_train_avg = loss_train_total / len(dataloader)\n",
    "    tqdm.write(f'Training loss:{loss_train_avg}')\n",
    "    \n",
    "    test_loss, predictions, true_vals = evaluate(dataloader_test)\n",
    "    test_f1 = f1_score_func(predictions, true_vals)\n",
    "    tqdm.write(f'Test loss:{test_loss}')\n",
    "    tqdm.write(f'F1 score (weighted): {test_f1}')"
   ]
  },
  {
   "cell_type": "markdown",
   "id": "posted-corporation",
   "metadata": {},
   "source": [
    "## Loading and Evaluating model"
   ]
  },
  {
   "cell_type": "code",
   "execution_count": null,
   "id": "excited-power",
   "metadata": {},
   "outputs": [],
   "source": [
    "emotion_dict = {0, 1}\n",
    "model = BertForSequenceClassification.from_pretrained('bert-base-uncased', \n",
    "                                                     num_labels = len(emotion_dict),\n",
    "                                                     output_attentions = False, \n",
    "                                                     output_hidden_states = False)"
   ]
  },
  {
   "cell_type": "code",
   "execution_count": 84,
   "id": "turkish-verse",
   "metadata": {},
   "outputs": [],
   "source": [
    "model.to(device)\n",
    "pass"
   ]
  },
  {
   "cell_type": "code",
   "execution_count": null,
   "id": "italian-brush",
   "metadata": {},
   "outputs": [],
   "source": [
    "model.load_state_dict(torch.load('Models/finetuned_bert_epoch_1_gpu_trained.model',\n",
    "                                map_location=torch.device('cpu')))"
   ]
  },
  {
   "cell_type": "code",
   "execution_count": null,
   "id": "lightweight-alexandria",
   "metadata": {},
   "outputs": [],
   "source": [
    "_, predictions, true_vals = evaluate(dataloader_test)"
   ]
  },
  {
   "cell_type": "code",
   "execution_count": null,
   "id": "independent-volunteer",
   "metadata": {},
   "outputs": [],
   "source": [
    "accuracy_per_class(prediction, true_vals)"
   ]
  }
 ],
 "metadata": {
  "kernelspec": {
   "display_name": "Python 3",
   "language": "python",
   "name": "python3"
  },
  "language_info": {
   "codemirror_mode": {
    "name": "ipython",
    "version": 3
   },
   "file_extension": ".py",
   "mimetype": "text/x-python",
   "name": "python",
   "nbconvert_exporter": "python",
   "pygments_lexer": "ipython3",
   "version": "3.9.13"
  },
  "toc": {
   "base_numbering": 1,
   "nav_menu": {},
   "number_sections": true,
   "sideBar": true,
   "skip_h1_title": true,
   "title_cell": "Table of Contents",
   "title_sidebar": "Contents",
   "toc_cell": false,
   "toc_position": {},
   "toc_section_display": true,
   "toc_window_display": true
  },
  "varInspector": {
   "cols": {
    "lenName": 16,
    "lenType": 16,
    "lenVar": 40
   },
   "kernels_config": {
    "python": {
     "delete_cmd_postfix": "",
     "delete_cmd_prefix": "del ",
     "library": "var_list.py",
     "varRefreshCmd": "print(var_dic_list())"
    },
    "r": {
     "delete_cmd_postfix": ") ",
     "delete_cmd_prefix": "rm(",
     "library": "var_list.r",
     "varRefreshCmd": "cat(var_dic_list()) "
    }
   },
   "types_to_exclude": [
    "module",
    "function",
    "builtin_function_or_method",
    "instance",
    "_Feature"
   ],
   "window_display": false
  }
 },
 "nbformat": 4,
 "nbformat_minor": 5
}
