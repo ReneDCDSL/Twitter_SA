{
 "cells": [
  {
   "cell_type": "markdown",
   "id": "monthly-fisher",
   "metadata": {},
   "source": [
    "# Machine Learning Project"
   ]
  },
  {
   "cell_type": "markdown",
   "id": "professional-dealer",
   "metadata": {},
   "source": [
    "# I. Introduction"
   ]
  },
  {
   "cell_type": "markdown",
   "id": "employed-bargain",
   "metadata": {},
   "source": [
    "Sequence classification is a type of predictive problem where we try to predict the category of a sequence of inputs over space or time. It is a hard task because the inputs can vary in length, the set of words (vocabulary) can be vary large and the model may want to understand the long-term context of a sequence.\n",
    "\n",
    "## Description of the dataset\n",
    "\n",
    "We will demonstrate sequence learning through a twitter sentiment analysis classification problem. Each tweet are short messages of varied length of words and the task is to build a classifier that can correctly predict the sentiment of each tweet.\n",
    "Our dataset contains more than 1.2 million tweets, equally split in positive and negative messages. \n",
    "\n",
    "## Approach\n",
    "\n",
    "We will approach this classification task by first getting an overlook of the dataset and the kind of messages we have at hand. Then we will apply some NLP techniques to transform our data into numerical objects (embedding) which we will feed into various Machine Learning Models. From Logistic Regressions to Deep Learning models, we will compare them and create a benchmark of various Supervised models for this classification task."
   ]
  },
  {
   "cell_type": "markdown",
   "id": "356fa1a9",
   "metadata": {},
   "source": [
    "## Import\n",
    "\n",
    "### Libraries and modules"
   ]
  },
  {
   "cell_type": "code",
   "execution_count": null,
   "id": "649555f5",
   "metadata": {},
   "outputs": [],
   "source": [
    "import numpy as np\n",
    "import pandas as pd\n",
    "from Functions import GridSearch_, make_results\n",
    "\n",
    "# Visualizations\n",
    "import matplotlib.pyplot as plt\n",
    "import seaborn as sns\n",
    "\n",
    "%matplotlib inline\n",
    "sns.set(font_scale=1.3)\n",
    "sns.set(style=\"darkgrid\")\n",
    "\n",
    "# Machine Learning\n",
    "## Tools\n",
    "from sklearn.metrics import confusion_matrix\n",
    "from sklearn.model_selection import train_test_split\n",
    "\n",
    "# Deep Learning\n",
    "import keras.backend as K\n",
    "from keras import utils\n",
    "from keras.preprocessing import sequence\n",
    "from keras.preprocessing.text import one_hot, Tokenizer\n",
    "from keras.preprocessing.sequence import pad_sequences\n",
    "from keras.layers import GlobalMaxPooling1D, Conv1D, LSTM, Flatten, Dense, Embedding, MaxPooling1D, Activation, Dropout, Dense, Bidirectional\n",
    "from keras.models import Sequential"
   ]
  },
  {
   "cell_type": "markdown",
   "id": "269501ec",
   "metadata": {},
   "source": [
    "### Dataset"
   ]
  },
  {
   "cell_type": "code",
   "execution_count": 3,
   "id": "based-sarah",
   "metadata": {
    "ExecuteTime": {
     "end_time": "2023-11-16T10:49:18.951730Z",
     "start_time": "2023-11-16T10:49:15.618160Z"
    },
    "scrolled": false
   },
   "outputs": [],
   "source": [
    "emote = pd.read_csv(\"data/MLUnige2021_train.csv\",usecols=['emotion', 'user', 'text'])\n",
    "emote_50 = emote[:50000]   #  50.000 first obs\n",
    "emote_100 = emote[:100000] # 100.000 first obs\n",
    "emote_320 = emote[:320000] #  about 1/4 of obs\n",
    "\n",
    "results = pd.DataFrame()"
   ]
  },
  {
   "cell_type": "markdown",
   "id": "published-privilege",
   "metadata": {},
   "source": [
    "## Deep Learning"
   ]
  },
  {
   "cell_type": "markdown",
   "id": "addressed-point",
   "metadata": {},
   "source": [
    "The Long Short-Term Memory (LSTM) model, a type of recurrent neural network, is a well-suited solution for sentiment analysis tasks. Specifically designed to handle sequential data, LSTMs excel in capturing long-range dependencies within language, making them highly effective for understanding sentiment in textual data.\n",
    "\n",
    "Unlike traditional models, LSTMs leverage memory cells to retain and recall information over extended sequences, enabling them to discern subtle nuances and context-dependent sentiment shifts. This capability proves invaluable for applications like social media sentiment analysis and customer reviews.\n",
    "\n",
    "Recurrent neural networks like LSTM generally have the problem of overfitting.\n",
    "Dropout can be applied between layers using the Dropout Keras layer. We can do this easily by adding new Dropout layers between the Embedding and LSTM layers and the LSTM and Dense output layers. For example:"
   ]
  },
  {
   "cell_type": "code",
   "execution_count": 85,
   "id": "confirmed-technology",
   "metadata": {
    "ExecuteTime": {
     "end_time": "2023-11-15T14:09:22.429375Z",
     "start_time": "2023-11-15T14:08:33.676025Z"
    }
   },
   "outputs": [],
   "source": [
    "# Define the train and test sets (320 000 observations)\n",
    "data = emote\n",
    "X_train, X_test, y_train, y_test = train_test_split((data.text + data.user), data.emotion, test_size=0.2, random_state=37)\n",
    "\n",
    "max_features = 50000\n",
    "nb_classes = 2\n",
    "maxlen = 100\n",
    "tokenizer = Tokenizer(num_words=max_features)\n",
    "tokenizer.fit_on_texts(X_train)\n",
    "sequences_train = tokenizer.texts_to_sequences(X_train)\n",
    "sequences_test = tokenizer.texts_to_sequences(X_test)\n",
    "\n",
    "X_train = sequence.pad_sequences(sequences_train, maxlen=maxlen)\n",
    "X_test = sequence.pad_sequences(sequences_test, maxlen=maxlen)\n",
    "Y_train = utils.to_categorical(y_train, nb_classes)\n",
    "Y_test = utils.to_categorical(y_test, nb_classes)"
   ]
  },
  {
   "cell_type": "code",
   "execution_count": 86,
   "id": "997d5792",
   "metadata": {
    "ExecuteTime": {
     "end_time": "2023-11-15T15:19:56.601035Z",
     "start_time": "2023-11-15T14:09:22.432097Z"
    },
    "scrolled": true
   },
   "outputs": [
    {
     "name": "stdout",
     "output_type": "stream",
     "text": [
      "Epoch 1/2\n",
      "7994/7994 [==============================] - 2045s 255ms/step - loss: 0.4125 - accuracy: 0.8109 - val_loss: 0.3820 - val_accuracy: 0.8281\n",
      "Epoch 2/2\n",
      "7994/7994 [==============================] - 1898s 237ms/step - loss: 0.3530 - accuracy: 0.8429 - val_loss: 0.3751 - val_accuracy: 0.8335\n",
      "1999/1999 [==============================] - 105s 50ms/step - loss: 0.3751 - accuracy: 0.8335\n",
      "Test score: 0.37511518597602844\n",
      "Test accuracy: 0.8334903717041016\n",
      "7994/7994 [==============================] - 180s 22ms/step\n"
     ]
    }
   ],
   "source": [
    "batch_size = 128\n",
    "\n",
    "model = Sequential()\n",
    "model.add(Embedding(max_features, 128))\n",
    "model.add(Dropout(0.2))\n",
    "model.add(LSTM(100))\n",
    "model.add(Dropout(0.2))\n",
    "model.add(Dense(nb_classes, activation='sigmoid'))\n",
    "\n",
    "model.compile(loss='binary_crossentropy',\n",
    "              optimizer='adam', \n",
    "              metrics=['accuracy'])\n",
    "\n",
    "model.fit(X_train, \n",
    "          Y_train, \n",
    "          batch_size=batch_size, \n",
    "          epochs=2,\n",
    "          validation_data=(X_test, Y_test))\n",
    "\n",
    "score, acc = model.evaluate(X_test, \n",
    "                            Y_test,\n",
    "                            batch_size=batch_size)\n",
    "print('Test score:', score)\n",
    "print('Test accuracy:', acc)\n",
    "\n",
    "# Predict the output class\n",
    "y_pred = model.predict(X_test)\n",
    "\n",
    "# Extract the most probable class\n",
    "y_pred = np.argmax(y_pred,axis=1)\n",
    "\n",
    "# Append results\n",
    "LSTM_results = make_results_dl('LSTM_1', y_test, y_pred)\n",
    "results = pd.concat([results, LSTM_results], axis=0)"
   ]
  },
  {
   "cell_type": "code",
   "execution_count": null,
   "id": "64d35b84",
   "metadata": {},
   "outputs": [],
   "source": [
    "#  export LSTM model to pickle \n",
    "with open('LSTM1_model.pkl','wb') as file:\n",
    "    pickle.dump(Mlps, file)"
   ]
  },
  {
   "cell_type": "markdown",
   "id": "a648b05a",
   "metadata": {},
   "source": [
    "We can see dropout having the desired impact on training with a slightly slower trend in convergence and, in this case, a lower final accuracy. The model could probably use a few more epochs of training and may achieve a higher skill.\n",
    "\n",
    "Alternately, dropout can be applied to the input and recurrent connections of the memory units with the LSTM precisely and separately.\n",
    "\n",
    "Keras provides this capability with parameters on the LSTM layer, the dropout for configuring the input dropout, and recurrent_dropout for configuring the recurrent dropout. For example, we can modify the first example to add dropout to the input and recurrent connections as follows:"
   ]
  },
  {
   "cell_type": "code",
   "execution_count": 87,
   "id": "a5c69714",
   "metadata": {
    "ExecuteTime": {
     "end_time": "2023-11-15T15:20:55.663642Z",
     "start_time": "2023-11-15T15:19:56.607620Z"
    }
   },
   "outputs": [],
   "source": [
    "# Define the train and test sets (320 000 observations)\n",
    "data = emote\n",
    "X_train, X_test, y_train, y_test = train_test_split((data.text + data.user), data.emotion, test_size=0.2, random_state=37)\n",
    "\n",
    "max_features = 50000\n",
    "nb_classes = 2\n",
    "maxlen = 100\n",
    "tokenizer = Tokenizer(num_words=max_features)\n",
    "tokenizer.fit_on_texts(X_train)\n",
    "sequences_train = tokenizer.texts_to_sequences(X_train)\n",
    "sequences_test = tokenizer.texts_to_sequences(X_test)\n",
    "\n",
    "X_train = sequence.pad_sequences(sequences_train, maxlen=maxlen)\n",
    "X_test = sequence.pad_sequences(sequences_test, maxlen=maxlen)\n",
    "Y_train = utils.to_categorical(y_train, nb_classes)\n",
    "Y_test = utils.to_categorical(y_test, nb_classes)"
   ]
  },
  {
   "cell_type": "code",
   "execution_count": 88,
   "id": "e514f46a",
   "metadata": {
    "ExecuteTime": {
     "end_time": "2023-11-15T17:20:04.062803Z",
     "start_time": "2023-11-15T15:20:55.667788Z"
    }
   },
   "outputs": [
    {
     "name": "stdout",
     "output_type": "stream",
     "text": [
      "Epoch 1/2\n",
      "7994/7994 [==============================] - 3433s 429ms/step - loss: 0.4114 - accuracy: 0.8113 - val_loss: 0.3816 - val_accuracy: 0.8278\n",
      "Epoch 2/2\n",
      "7994/7994 [==============================] - 3433s 430ms/step - loss: 0.3522 - accuracy: 0.8434 - val_loss: 0.3759 - val_accuracy: 0.8330\n",
      "1999/1999 [==============================] - 116s 55ms/step - loss: 0.3759 - accuracy: 0.8330\n",
      "Test score: 0.3758881986141205\n",
      "Test accuracy: 0.833044707775116\n",
      "7994/7994 [==============================] - 162s 19ms/step\n"
     ]
    }
   ],
   "source": [
    "batch_size = 128\n",
    "\n",
    "model = Sequential()\n",
    "model.add(Embedding(max_features, 128))\n",
    "model.add(LSTM(100, dropout=0.2, recurrent_dropout=0.2))\n",
    "model.add(Dense(nb_classes, activation='sigmoid'))\n",
    "\n",
    "model.compile(loss='binary_crossentropy',\n",
    "              optimizer='adam', \n",
    "              metrics=['accuracy'])\n",
    "\n",
    "model.fit(X_train, \n",
    "          Y_train, \n",
    "          batch_size=batch_size, \n",
    "          epochs=2,\n",
    "          validation_data=(X_test, Y_test))\n",
    "\n",
    "score, acc = model.evaluate(X_test, \n",
    "                            Y_test,\n",
    "                            batch_size=batch_size)\n",
    "print('Test score:', score)\n",
    "print('Test accuracy:', acc)\n",
    "\n",
    "# Predict the output class\n",
    "y_pred = model.predict(X_test)\n",
    "\n",
    "# Extract the most probable class\n",
    "y_pred = np.argmax(y_pred,axis=1)\n",
    "\n",
    "# Append results\n",
    "LSTM_results = make_results_dl('LSTM_2', y_test, y_pred)\n",
    "results = pd.concat([results, LSTM_results], axis=0)"
   ]
  },
  {
   "cell_type": "markdown",
   "id": "82b3fe07",
   "metadata": {},
   "source": [
    "We can see that the LSTM-specific dropout has a more pronounced effect on the convergence of the network than the layer-wise dropout. Like above, the number of epochs was kept constant and could be increased to see if the skill of the model could be further lifted.\n",
    "\n",
    "Dropout is a powerful technique for combating overfitting in our LSTM models, and it is a good idea to try both methods. Still, we may get better results with the gate-specific dropout provided in Keras."
   ]
  },
  {
   "cell_type": "code",
   "execution_count": 89,
   "id": "861ceed3",
   "metadata": {
    "ExecuteTime": {
     "end_time": "2023-11-15T17:21:04.935377Z",
     "start_time": "2023-11-15T17:20:04.072454Z"
    }
   },
   "outputs": [],
   "source": [
    "# Define the train and test sets (320 000 observations)\n",
    "data = emote\n",
    "X_train, X_test, y_train, y_test = train_test_split((data.text + data.user), data.emotion, test_size=0.2, random_state=37)\n",
    "\n",
    "max_features = 50000\n",
    "nb_classes = 2\n",
    "maxlen = 100\n",
    "tokenizer = Tokenizer(num_words=max_features)\n",
    "tokenizer.fit_on_texts(X_train)\n",
    "sequences_train = tokenizer.texts_to_sequences(X_train)\n",
    "sequences_test = tokenizer.texts_to_sequences(X_test)\n",
    "\n",
    "X_train = sequence.pad_sequences(sequences_train, maxlen=maxlen)\n",
    "X_test = sequence.pad_sequences(sequences_test, maxlen=maxlen)\n",
    "Y_train = utils.to_categorical(y_train, nb_classes)\n",
    "Y_test = utils.to_categorical(y_test, nb_classes)"
   ]
  },
  {
   "cell_type": "code",
   "execution_count": 90,
   "id": "improved-charlotte",
   "metadata": {
    "ExecuteTime": {
     "end_time": "2023-11-15T18:46:36.914348Z",
     "start_time": "2023-11-15T17:21:04.937335Z"
    }
   },
   "outputs": [
    {
     "name": "stdout",
     "output_type": "stream",
     "text": [
      "Epoch 1/2\n",
      "7994/7994 [==============================] - 2410s 300ms/step - loss: 0.4112 - accuracy: 0.8112 - val_loss: 0.3821 - val_accuracy: 0.8286\n",
      "Epoch 2/2\n",
      "7994/7994 [==============================] - 2335s 292ms/step - loss: 0.3510 - accuracy: 0.8440 - val_loss: 0.3728 - val_accuracy: 0.8331\n",
      "1999/1999 [==============================] - 145s 70ms/step - loss: 0.3728 - accuracy: 0.8331\n",
      "Test score: 0.3727535009384155\n",
      "Test accuracy: 0.8330681324005127\n",
      "7994/7994 [==============================] - 239s 29ms/step\n"
     ]
    }
   ],
   "source": [
    "batch_size = 128\n",
    "\n",
    "model = Sequential()\n",
    "model.add(Embedding(max_features, 128))\n",
    "model.add(LSTM(128, dropout=0.2)) \n",
    "model.add(Dense(nb_classes))\n",
    "model.add(Activation('softmax'))\n",
    "\n",
    "model.compile(loss='binary_crossentropy',\n",
    "              optimizer='adam',\n",
    "              metrics=['accuracy'])\n",
    "\n",
    "model.fit(X_train, \n",
    "          Y_train, \n",
    "          batch_size=batch_size, \n",
    "          epochs=2,\n",
    "          validation_data=(X_test, Y_test))\n",
    "score, acc = model.evaluate(X_test, \n",
    "                            Y_test,\n",
    "                            batch_size=batch_size)\n",
    "print('Test score:', score)\n",
    "print('Test accuracy:', acc)\n",
    "\n",
    "# Predict the output class\n",
    "y_pred = model.predict(X_test)\n",
    "\n",
    "# Extract the most probable class\n",
    "y_pred = np.argmax(y_pred,axis=1)\n",
    "\n",
    "# Append results\n",
    "LSTM_results = make_results_dl('LSTM_3', y_test, y_pred)\n",
    "results = pd.concat([results, LSTM_results], axis=0)"
   ]
  },
  {
   "cell_type": "markdown",
   "id": "d7995375",
   "metadata": {},
   "source": [
    "#### LSTM and Convolutional Neural Network"
   ]
  },
  {
   "cell_type": "markdown",
   "id": "8ec8338b",
   "metadata": {},
   "source": [
    "Convolutional neural networks excel at learning the spatial structure in input data.\n",
    "\n",
    "The twitter data does have a one-dimensional spatial structure in the sequence of words in tweets, and the CNN may be able to pick out invariant features for the good and bad sentiment. This learned spatial feature may then be learned as sequences by an LSTM layer.\n",
    "\n",
    "We can easily add a one-dimensional CNN and max pooling layers after the Embedding layer, which then feeds the consolidated features to the LSTM. We can use a smallish set of 32 features with a small filter length of 3. The pooling layer can use the standard length of 2 to halve the feature map size."
   ]
  },
  {
   "cell_type": "code",
   "execution_count": 91,
   "id": "f6948fb5",
   "metadata": {
    "ExecuteTime": {
     "end_time": "2023-11-15T18:47:31.295003Z",
     "start_time": "2023-11-15T18:46:36.914348Z"
    }
   },
   "outputs": [],
   "source": [
    "# Define the train and test sets (320 000 observations)\n",
    "data = emote\n",
    "X_train, X_test, y_train, y_test = train_test_split((data.text + data.user), data.emotion, test_size=0.2, random_state=37)\n",
    "\n",
    "max_features = 50000\n",
    "nb_classes = 2\n",
    "maxlen = 100\n",
    "tokenizer = Tokenizer(num_words=max_features)\n",
    "tokenizer.fit_on_texts(X_train)\n",
    "sequences_train = tokenizer.texts_to_sequences(X_train)\n",
    "sequences_test = tokenizer.texts_to_sequences(X_test)\n",
    "\n",
    "X_train = sequence.pad_sequences(sequences_train, maxlen=maxlen)\n",
    "X_test = sequence.pad_sequences(sequences_test, maxlen=maxlen)\n",
    "Y_train = utils.to_categorical(y_train, nb_classes)\n",
    "Y_test = utils.to_categorical(y_test, nb_classes)"
   ]
  },
  {
   "cell_type": "code",
   "execution_count": 92,
   "id": "provincial-cherry",
   "metadata": {
    "ExecuteTime": {
     "end_time": "2023-11-15T20:57:54.784254Z",
     "start_time": "2023-11-15T18:47:31.296962Z"
    },
    "scrolled": true
   },
   "outputs": [
    {
     "name": "stdout",
     "output_type": "stream",
     "text": [
      "Epoch 1/2\n",
      "31974/31974 [==============================] - 3723s 116ms/step - loss: 0.4037 - accuracy: 0.8160 - val_loss: 0.3774 - val_accuracy: 0.8306\n",
      "Epoch 2/2\n",
      "31974/31974 [==============================] - 3863s 121ms/step - loss: 0.3414 - accuracy: 0.8500 - val_loss: 0.3727 - val_accuracy: 0.8334\n",
      "7994/7994 [==============================] - 118s 14ms/step - loss: 0.3727 - accuracy: 0.8334\n",
      "Test score: 0.3726580739021301\n",
      "Test accuracy: 0.8334356546401978\n",
      "7994/7994 [==============================] - 116s 14ms/step\n"
     ]
    }
   ],
   "source": [
    "batch_size = 32\n",
    "model = Sequential()\n",
    "model.add(Embedding(max_features, 128))\n",
    "model.add(Conv1D(filters=32, kernel_size=3, padding='same', activation='relu'))\n",
    "model.add(MaxPooling1D(pool_size=2))\n",
    "model.add(LSTM(100))\n",
    "model.add(Dense(2, activation='sigmoid'))\n",
    "\n",
    "model.compile(loss='binary_crossentropy',\n",
    "              optimizer='adam',\n",
    "              metrics=['accuracy'])\n",
    "\n",
    "model.fit(X_train, Y_train, batch_size=batch_size, epochs=2,\n",
    "          validation_data=(X_test, Y_test))\n",
    "score, acc = model.evaluate(X_test, Y_test,\n",
    "                            batch_size=batch_size)\n",
    "print('Test score:', score)\n",
    "print('Test accuracy:', acc)\n",
    "\n",
    "# Predict the output class\n",
    "y_pred = model.predict(X_test)\n",
    "\n",
    "# Extract the most probable class\n",
    "y_pred = np.argmax(y_pred,axis=1)\n",
    "\n",
    "# Append results\n",
    "LSTM_results = make_results_dl('LSTM_4', y_test, y_pred)\n",
    "results = pd.concat([results, LSTM_results], axis=0)"
   ]
  },
  {
   "cell_type": "markdown",
   "id": "800f70ab",
   "metadata": {},
   "source": [
    "#### Bidirectional LSTM"
   ]
  },
  {
   "cell_type": "markdown",
   "id": "655f8112",
   "metadata": {},
   "source": [
    "Sometimes, a sequence is better used in reversed order. In those cases, we can simply reverse a vector x using the Python syntax x[::-1] before using it to train your LSTM network.\n",
    "\n",
    "Sometimes, neither the forward nor the reversed order works perfectly, but combining them will give better results. In this case, we will need a bidirectional LSTM network.\n",
    "\n",
    "A bidirectional LSTM network is simply two separate LSTM networks; one feeds with a forward sequence and another with reversed sequence. Then the output of the two LSTM networks is concatenated together before being fed to the subsequent layers of the network. In Keras, there is the function Bidirectional() to clone an LSTM layer for forward-backward input and concatenate their output.\n",
    "\n",
    "Since we created not one, but two LSTMs with 100 units each, this network will take twice the amount of time to train. Depending on the problem, this additional cost may be justified."
   ]
  },
  {
   "cell_type": "markdown",
   "id": "beautiful-wilderness",
   "metadata": {},
   "source": [
    "This 80.92% prediction score reflects the accuracy taking 320 000 observations into fitting. Another one using the whole dataset went to 83% on kaggle."
   ]
  },
  {
   "cell_type": "code",
   "execution_count": 93,
   "id": "00448dd0",
   "metadata": {
    "ExecuteTime": {
     "end_time": "2023-11-15T20:58:54.960385Z",
     "start_time": "2023-11-15T20:57:54.797579Z"
    }
   },
   "outputs": [],
   "source": [
    "# Define the train and test sets (320 000 observations)\n",
    "data = emote\n",
    "X_train, X_test, y_train, y_test = train_test_split((data.text + data.user), data.emotion, test_size=0.2, random_state=37)\n",
    "\n",
    "max_features = 50000\n",
    "nb_classes = 2\n",
    "maxlen = 100\n",
    "tokenizer = Tokenizer(num_words=max_features)\n",
    "tokenizer.fit_on_texts(X_train)\n",
    "sequences_train = tokenizer.texts_to_sequences(X_train)\n",
    "sequences_test = tokenizer.texts_to_sequences(X_test)\n",
    "\n",
    "X_train = sequence.pad_sequences(sequences_train, maxlen=maxlen)\n",
    "X_test = sequence.pad_sequences(sequences_test, maxlen=maxlen)\n",
    "Y_train = utils.to_categorical(y_train, nb_classes)\n",
    "Y_test = utils.to_categorical(y_test, nb_classes)"
   ]
  },
  {
   "cell_type": "code",
   "execution_count": null,
   "id": "f1a31e04",
   "metadata": {
    "ExecuteTime": {
     "start_time": "2023-11-15T14:08:33.720Z"
    },
    "scrolled": true
   },
   "outputs": [
    {
     "name": "stdout",
     "output_type": "stream",
     "text": [
      "Epoch 1/2\n",
      "7994/7994 [==============================] - 15050s 2s/step - loss: 0.4116 - accuracy: 0.8106 - val_loss: 0.3820 - val_accuracy: 0.8282\n",
      "Epoch 2/2\n",
      "   2/7994 [..............................] - ETA: 4:13:24 - loss: 0.3296 - accuracy: 0.8477"
     ]
    }
   ],
   "source": [
    "batch_size = 128\n",
    "\n",
    "model = Sequential()\n",
    "model.add(Embedding(max_features, 128))\n",
    "model.add(Bidirectional(LSTM(100, dropout=0.2, recurrent_dropout=0.2)))\n",
    "model.add(Dense(nb_classes, activation='sigmoid'))\n",
    "\n",
    "model.compile(loss='binary_crossentropy',\n",
    "              optimizer='adam',\n",
    "              metrics=['accuracy'])\n",
    "\n",
    "model.fit(X_train, \n",
    "          Y_train, \n",
    "          batch_size=batch_size, \n",
    "          epochs=2,\n",
    "          validation_data=(X_test, Y_test))\n",
    "score, acc = model.evaluate(X_test, \n",
    "                            Y_test,\n",
    "                            batch_size=batch_size)\n",
    "print('Test score:', score)\n",
    "print('Test accuracy:', acc)\n",
    "\n",
    "# Predict the output class\n",
    "y_pred = model.predict(X_test)\n",
    "\n",
    "# Extract the most probable class\n",
    "y_pred = np.argmax(y_pred,axis=1)\n",
    "\n",
    "# Append results\n",
    "LSTM_results = make_results_dl('LSTM_5', y_test, y_pred)\n",
    "results = pd.concat([results, LSTM_results], axis=0)"
   ]
  },
  {
   "cell_type": "code",
   "execution_count": null,
   "id": "370c35a7",
   "metadata": {},
   "outputs": [],
   "source": [
    "results.to_csv('Models Results/dl_res.csv')"
   ]
  },
  {
   "cell_type": "markdown",
   "id": "bizarre-connection",
   "metadata": {},
   "source": [
    "# IV. Results"
   ]
  },
  {
   "cell_type": "markdown",
   "id": "cognitive-paste",
   "metadata": {},
   "source": [
    " "
   ]
  },
  {
   "cell_type": "markdown",
   "id": "866b57ec",
   "metadata": {},
   "source": [
    "Here is a benchmark of all the models accuracy performance:"
   ]
  },
  {
   "cell_type": "code",
   "execution_count": 7,
   "id": "efad82eb",
   "metadata": {
    "ExecuteTime": {
     "end_time": "2023-11-16T10:53:51.200289Z",
     "start_time": "2023-11-16T10:53:51.186345Z"
    }
   },
   "outputs": [],
   "source": [
    "data = {'model': ['log', 'log', 'log', 'log', 'mnb', 'mnb', 'mnb', 'mnb', 'svm', 'svm', 'svm', 'svm'], \n",
    "        'size': ['50', '100', '320', 'all', '50', '100', '320', 'all', '50', '100', '320', 'all'], \n",
    "        'accuracy':[0.770, 0.785, 0.803, 0.821, 0.763, 0.778, 0.792, 0.810, 0.780, 0.794, 0.811, 0.828]}\n",
    "results_ = pd.DataFrame.from_dict(data)"
   ]
  },
  {
   "cell_type": "code",
   "execution_count": 45,
   "id": "8ce2572f",
   "metadata": {
    "ExecuteTime": {
     "end_time": "2023-11-16T11:06:17.652440Z",
     "start_time": "2023-11-16T11:06:17.170727Z"
    }
   },
   "outputs": [
    {
     "data": {
      "text/plain": [
       "<Figure size 500x500 with 0 Axes>"
      ]
     },
     "metadata": {},
     "output_type": "display_data"
    },
    {
     "data": {
      "image/png": "[encoded data removed]",
      "text/plain": [
       "<Figure size 1200x500 with 3 Axes>"
      ]
     },
     "metadata": {},
     "output_type": "display_data"
    }
   ],
   "source": [
    "plt.figure(figsize=(5, 5))\n",
    "g = sns.catplot(x='size',\n",
    "                y='accuracy',\n",
    "                col='model',\n",
    "                data=results_,\n",
    "                kind='bar',\n",
    "                palette=\"Blues\",\n",
    "                height=5,\n",
    "                aspect=.8)\n",
    "g.set_axis_labels(\"\", \"Accuracy\")\n",
    "g.set_xticklabels([\"50k\", \"100k\", \"320k\", 'All data'])\n",
    "g.set_titles(\"{col_name} {col_var}\")\n",
    "g.set(ylim=(0.75, 0.85));"
   ]
  },
  {
   "cell_type": "code",
   "execution_count": 47,
   "id": "b6e3c7c3",
   "metadata": {
    "ExecuteTime": {
     "end_time": "2023-11-16T11:09:14.180822Z",
     "start_time": "2023-11-16T11:09:14.169847Z"
    }
   },
   "outputs": [],
   "source": [
    "data_dl = {'model': ['LSTM_1', 'LSTM_2', 'LSTM_3', 'LSTM_4'],\n",
    "           'accuracy': [0.8334903717041016, 0.833044707775116, 0.8330681324005127, 0.8334356546401978]}\n",
    "results_dl_ = pd.DataFrame.from_dict(data_dl)"
   ]
  },
  {
   "cell_type": "code",
   "execution_count": 61,
   "id": "143f83cc",
   "metadata": {
    "ExecuteTime": {
     "end_time": "2023-11-16T11:12:16.369679Z",
     "start_time": "2023-11-16T11:12:16.152262Z"
    }
   },
   "outputs": [
    {
     "data": {
      "text/plain": [
       "<Figure size 500x500 with 0 Axes>"
      ]
     },
     "metadata": {},
     "output_type": "display_data"
    },
    {
     "data": {
      "image/png": "[encoded data removed]",
      "text/plain": [
       "<Figure size 400x500 with 1 Axes>"
      ]
     },
     "metadata": {},
     "output_type": "display_data"
    }
   ],
   "source": [
    "plt.figure(figsize=(5, 5))\n",
    "g = sns.catplot(x='model',\n",
    "                y='accuracy',\n",
    "                data=results_dl_,\n",
    "                kind='bar',\n",
    "                palette=\"Blues\",\n",
    "                height=5,\n",
    "                aspect=.8)\n",
    "g.set_axis_labels(\"\", \"Accuracy\")\n",
    "g.set_xticklabels([\"LSTM_1\", \"LSTM_2\", \"LSTM_3\", 'LSTM_4'])\n",
    "g.set(ylim=(0.83, 0.835));"
   ]
  }
 ],
 "metadata": {
  "kernelspec": {
   "display_name": "Python 3",
   "language": "python",
   "name": "python3"
  },
  "language_info": {
   "codemirror_mode": {
    "name": "ipython",
    "version": 3
   },
   "file_extension": ".py",
   "mimetype": "text/x-python",
   "name": "python",
   "nbconvert_exporter": "python",
   "pygments_lexer": "ipython3",
   "version": "3.9.13"
  },
  "toc": {
   "base_numbering": 1,
   "nav_menu": {},
   "number_sections": false,
   "sideBar": true,
   "skip_h1_title": false,
   "title_cell": "Table of Contents",
   "title_sidebar": "Contents",
   "toc_cell": false,
   "toc_position": {
    "height": "calc(100% - 180px)",
    "left": "10px",
    "top": "150px",
    "width": "435.594px"
   },
   "toc_section_display": true,
   "toc_window_display": true
  },
  "varInspector": {
   "cols": {
    "lenName": 16,
    "lenType": 16,
    "lenVar": 40
   },
   "kernels_config": {
    "python": {
     "delete_cmd_postfix": "",
     "delete_cmd_prefix": "del ",
     "library": "var_list.py",
     "varRefreshCmd": "print(var_dic_list())"
    },
    "r": {
     "delete_cmd_postfix": ") ",
     "delete_cmd_prefix": "rm(",
     "library": "var_list.r",
     "varRefreshCmd": "cat(var_dic_list()) "
    }
   },
   "types_to_exclude": [
    "module",
    "function",
    "builtin_function_or_method",
    "instance",
    "_Feature"
   ],
   "window_display": false
  }
 },
 "nbformat": 4,
 "nbformat_minor": 5
}
